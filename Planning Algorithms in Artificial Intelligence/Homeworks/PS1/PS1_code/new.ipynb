{
 "cells": [
  {
   "cell_type": "code",
   "execution_count": 20,
   "id": "153716b7-b03c-4af2-b5d6-823678e15c51",
   "metadata": {},
   "outputs": [],
   "source": [
    "from numpy import load\n",
    "import numpy as np\n",
    "from matplotlib import pyplot as plt\n",
    "import pandas as pd\n",
    "import matplotlib.animation as animation\n",
    "from scipy import signal\n",
    "import typing\n",
    "from typing import Callable, Tuple\n",
    "from queue import PriorityQueue"
   ]
  },
  {
   "cell_type": "code",
   "execution_count": 2,
   "id": "568b40c8-ef11-4ac8-b289-1d302af9cb62",
   "metadata": {},
   "outputs": [
    {
     "data": {
      "text/plain": [
       "NpzFile 'data_ps1.npz' with keys: environment, rod"
      ]
     },
     "execution_count": 2,
     "metadata": {},
     "output_type": "execute_result"
    }
   ],
   "source": []
  },
  {
   "cell_type": "code",
   "execution_count": 5,
   "id": "3635570e-dcdd-4fa1-a616-06684358b8f4",
   "metadata": {},
   "outputs": [],
   "source": [
    "def get_next_possible_states(self, cur_state):\n",
    "    \n",
    "        \"\"\"\n",
    "        This function combines u(s) that returns action space, transition function  \n",
    "        f(x, u) and cost function c(x') \n",
    "         \n",
    "        Returns: \n",
    "        next_states - array of tuples (state', cost) that are possible from  \n",
    "        current state \n",
    "        \"\"\" \n",
    "        x, y, cur_orient = cur_state \n",
    "        nextstates = [] \n",
    " \n",
    "        # for action 'move' up/down/left/right from current \n",
    "        if x > 0 and not self.c_space[x - 1, y, cur_orient] == 1: \n",
    "            nextstates.append(((x - 1, y, cur_orient), self.action_cost['move'])) \n",
    "        if x < self.map.shape[0] - 1 and not self.c_space[x + 1, y, cur_orient] == 1: \n",
    "            nextstates.append(((x + 1, y, cur_orient), self.action_cost['move'])) \n",
    "        if y > 0 and not self.c_space[x, y - 1, cur_orient] == 1: \n",
    "            nextstates.append(((x, y - 1, cur_orient), self.action_cost['move'])) \n",
    "        if y < self.map.shape[1] - 1 and not self.c_space[x, y + 1, cur_orient] == 1: \n",
    "            nextstates.append(((x, y + 1, cur_orient), self.action_cost['move'])) \n",
    " \n",
    "        # for action 'rotate' we can rotate left and right \n",
    "        for orient in [(cur_orient - 1) % 4, (cur_orient + 1) % 4]: \n",
    "            if not self.c_space[x, y, orient] == 1: # collision check \n",
    "                nextstates.append(((x, y, orient), self.action_cost['rotate'])) \n",
    "        return nextstates\n"
   ]
  },
  {
   "cell_type": "code",
   "execution_count": 23,
   "id": "9f563aee-6745-42e7-b813-54115fc427d8",
   "metadata": {},
   "outputs": [],
   "source": [
    "def a_star(env: Environment, h: Callable, startpos: Tuple, goalp):\n",
    "    \"\"\"A* star algorithm \n",
    "     \n",
    "    Returns: tuple of (status, plan, count of visited states, cost) \n",
    "    \"\"\" \n",
    "    p_queue = PriorityQueue() \n",
    "    visited = np.zeros_like(env.c_space, dtype=np.int32) # 1 - visited, 0 - not visited \n",
    "    visited[startpos] = 1 \n",
    "    parent_table = {startpos: (startpos, 0)} # state: (parent_state, C(state)) \n",
    " \n",
    "    states_visited = 0 \n",
    " \n",
    "    p_queue.put((0, startpos)) \n",
    "    while p_queue.qsize() != 0: \n",
    "        cur_state = p_queue.get()[1] \n",
    "        if cur_state == goalpos: \n",
    "            return 'success', ( \n",
    "                construct_plan(parent_table, goalpos, startpos), \n",
    "                visited.sum(),  \n",
    "                parent_table[cur_state][1] \n",
    "            ) \n",
    "     \n",
    "        for x_next, a_cost in env.get_next_possible_states(cur_state): \n",
    "            next_st_cost = a_cost + parent_table[cur_state][1] # l(x, u) + C(x)  \n",
    "            if visited[x_next] == 0: \n",
    "                visited[x_next] = 1 \n",
    "                parent_table[x_next] = (cur_state, next_st_cost)  \n",
    "                p_queue.put((next_st_cost + h(x_next, goalpos), x_next)) \n",
    "            else: \n",
    "                if parent_table[x_next][1] > next_st_cost: \n",
    "                    parent_table[x_next] = (cur_state, next_st_cost) \n",
    "     \n",
    "    return \"failure\", (None, visited.sum(), -1) \n",
    " \n",
    " \n",
    "def save_plan(agent, env, plan, path='rod_solve.mp4'): \n",
    "    utils.plotting_results( \n",
    "        env.map, \n",
    "        agent.shape, \n",
    "        plan, \n",
    "        save_path=path \n",
    "    )\n"
   ]
  },
  {
   "cell_type": "code",
   "execution_count": 24,
   "id": "fef34d5d-002c-450d-8fe8-164d1e210d34",
   "metadata": {},
   "outputs": [
    {
     "ename": "TypeError",
     "evalue": "a_star() missing 2 required positional arguments: 'startpos' and 'goalp'",
     "output_type": "error",
     "traceback": [
      "\u001b[1;31m---------------------------------------------------------------------------\u001b[0m",
      "\u001b[1;31mTypeError\u001b[0m                                 Traceback (most recent call last)",
      "Cell \u001b[1;32mIn[24], line 1\u001b[0m\n\u001b[1;32m----> 1\u001b[0m g \u001b[38;5;241m=\u001b[39m \u001b[43ma_star\u001b[49m\u001b[43m(\u001b[49m\u001b[43m(\u001b[49m\u001b[38;5;241;43m6\u001b[39;49m\u001b[43m,\u001b[49m\u001b[43m \u001b[49m\u001b[38;5;241;43m6\u001b[39;49m\u001b[43m,\u001b[49m\u001b[43m \u001b[49m\u001b[38;5;241;43m2\u001b[39;49m\u001b[43m)\u001b[49m\u001b[43m,\u001b[49m\u001b[43m \u001b[49m\u001b[43m(\u001b[49m\u001b[38;5;241;43m55\u001b[39;49m\u001b[43m,\u001b[49m\u001b[43m \u001b[49m\u001b[38;5;241;43m55\u001b[39;49m\u001b[43m,\u001b[49m\u001b[43m \u001b[49m\u001b[38;5;241;43m0\u001b[39;49m\u001b[43m)\u001b[49m\u001b[43m)\u001b[49m\n",
      "\u001b[1;31mTypeError\u001b[0m: a_star() missing 2 required positional arguments: 'startpos' and 'goalp'"
     ]
    }
   ],
   "source": [
    "g = a_star(data[\"environment\"], (6, 6, 2), (55, 55, 0))"
   ]
  },
  {
   "cell_type": "code",
   "execution_count": null,
   "id": "abc04fb8-349e-4c1a-8f6a-dd55c2fd50eb",
   "metadata": {},
   "outputs": [],
   "source": []
  },
  {
   "cell_type": "code",
   "execution_count": 22,
   "id": "190d32d8-996f-4221-90ac-6f53fa520d65",
   "metadata": {},
   "outputs": [
    {
     "data": {
      "text/plain": [
       "array([[0., 0., 0., ..., 0., 0., 0.],\n",
       "       [0., 0., 0., ..., 0., 0., 0.],\n",
       "       [0., 0., 0., ..., 0., 0., 0.],\n",
       "       ...,\n",
       "       [0., 0., 0., ..., 0., 0., 0.],\n",
       "       [0., 0., 0., ..., 0., 0., 0.],\n",
       "       [0., 0., 0., ..., 0., 0., 0.]])"
      ]
     },
     "execution_count": 22,
     "metadata": {},
     "output_type": "execute_result"
    }
   ],
   "source": [
    "data[\"environment\"]"
   ]
  },
  {
   "cell_type": "code",
   "execution_count": null,
   "id": "cd85dcf0-781a-48cd-87d0-c6d21f2c89a6",
   "metadata": {},
   "outputs": [],
   "source": []
  },
  {
   "cell_type": "code",
   "execution_count": null,
   "id": "1ceac5f0-da1f-4f52-acae-85b5383edbe6",
   "metadata": {},
   "outputs": [],
   "source": []
  },
  {
   "cell_type": "code",
   "execution_count": null,
   "id": "a3dacc39-cbef-4185-8266-e7fe6bead948",
   "metadata": {},
   "outputs": [],
   "source": []
  },
  {
   "cell_type": "code",
   "execution_count": null,
   "id": "ada4639f-df99-4bea-9aa4-07521f212c47",
   "metadata": {},
   "outputs": [],
   "source": []
  }
 ],
 "metadata": {
  "kernelspec": {
   "display_name": "Python 3 (ipykernel)",
   "language": "python",
   "name": "python3"
  },
  "language_info": {
   "codemirror_mode": {
    "name": "ipython",
    "version": 3
   },
   "file_extension": ".py",
   "mimetype": "text/x-python",
   "name": "python",
   "nbconvert_exporter": "python",
   "pygments_lexer": "ipython3",
   "version": "3.10.11"
  }
 },
 "nbformat": 4,
 "nbformat_minor": 5
}
