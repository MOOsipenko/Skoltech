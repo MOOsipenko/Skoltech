{
 "cells": [
  {
   "cell_type": "markdown",
   "metadata": {},
   "source": [
    "In this homework, you need to solve two tasks. For problems with theoretical calculations, you need to show a sufficient number of intermediate steps to explain how you have obtained the result. \n",
    "* Formulas are expected in Latex style inside the notebook. The assignment should be uploaded in Jupyter Notebook format(`.ipynb`). \n",
    "* Overall, there are 45 points, however, you can get a maximum of 40 points for this assignment( `your_points = max(your_points, 40)`). \n",
    "* No bonus points will be transferred to the next assignment."
   ]
  },
  {
   "cell_type": "markdown",
   "metadata": {},
   "source": [
    "# Task 1. Moscow weather (20 points)"
   ]
  },
  {
   "cell_type": "markdown",
   "metadata": {},
   "source": [
    "In this task you need to estimate parameters and their confidence intervals for a given sample. As data, you will explore Moscow weather. You can look at some visualizations of martian weather [here](https://pudding.cool/2018/01/mars-weather/) (completely unrelated to Moscow weather, though).\n",
    "\n",
    "First of all, you will need some libraries. Also, fix random seed to get reproducable results."
   ]
  },
  {
   "cell_type": "code",
   "execution_count": 1,
   "metadata": {},
   "outputs": [],
   "source": [
    "import numpy as np\n",
    "from numpy.random import choice, seed\n",
    "import pandas as pd\n",
    "from scipy.stats import sem, norm, skew, chi2\n",
    "import matplotlib.pyplot as plt\n",
    "from tqdm import tqdm\n",
    "from matplotlib import pyplot as plt\n",
    "import seaborn as sns\n",
    "from scipy import stats\n",
    "import scipy\n",
    "\n",
    "np.random.seed(321)"
   ]
  },
  {
   "cell_type": "code",
   "execution_count": 2,
   "metadata": {
    "tags": []
   },
   "outputs": [],
   "source": [
    "import matplotlib as mp\n",
    "import matplotlib.font_manager\n",
    "\n",
    "titlesize = 20\n",
    "labelsize = 16\n",
    "legendsize = labelsize\n",
    "xticksize = 14\n",
    "yticksize = xticksize\n",
    "\n",
    "mp.rcParams['legend.markerscale'] = 1.5     # the relative size of legend markers vs. original\n",
    "mp.rcParams['legend.handletextpad'] = 0.5\n",
    "mp.rcParams['legend.labelspacing'] = 0.4    # the vertical space between the legend entries in fraction of fontsize\n",
    "mp.rcParams['legend.borderpad'] = 0.5       # border whitespace in fontsize units\n",
    "mp.rcParams['font.size'] = 12\n",
    "mp.rcParams['font.family'] = 'serif'\n",
    "mp.rcParams['font.serif'] = 'Times New Roman'\n",
    "mp.rcParams['axes.labelsize'] = labelsize\n",
    "mp.rcParams['axes.titlesize'] = titlesize\n",
    "mp.rcParams['axes.unicode_minus'] = False\n",
    "\n",
    "mp.rc('xtick', labelsize=xticksize)\n",
    "mp.rc('ytick', labelsize=yticksize)\n",
    "mp.rc('legend', fontsize=legendsize)\n",
    "\n",
    "mp.rc('font', **{'family':'serif'})"
   ]
  },
  {
   "cell_type": "markdown",
   "metadata": {},
   "source": [
    "## Part 1. Load data (1 point)\n",
    "\n",
    "You need to load data from `moscow-weather.csv`, take feature for your variant, remove absent values (`Nan`s) and convert sample to `int` type. "
   ]
  },
  {
   "cell_type": "markdown",
   "metadata": {},
   "source": [
    "### b)\n",
    "\n",
    "`feature_name = \"TMAX\"`"
   ]
  },
  {
   "cell_type": "code",
   "execution_count": 3,
   "metadata": {},
   "outputs": [],
   "source": [
    "feature_name = \"TMAX\"\n",
    "df = pd.read_csv(\"moscow-weather.csv\")[feature_name]\n",
    "sample_full = df.dropna().values.astype(int)"
   ]
  },
  {
   "cell_type": "markdown",
   "metadata": {},
   "source": [
    "Let's take a five month period or ~ 150 days. Sample them randomly from full sample using function `choice`(from `numpy.random`) with parameter `replace=False`."
   ]
  },
  {
   "cell_type": "code",
   "execution_count": 4,
   "metadata": {},
   "outputs": [
    {
     "data": {
      "text/plain": [
       "array([  0,   2,  21,  20,  29,  14,   2,  23,  16,   3,  21,  16,   6,\n",
       "       -12,   6,   0,  -1,  28,  10,  -7,  13,   0,  -8,   2,   0,  21,\n",
       "        -3,  -1,  17,  -1,  23,  25,   6,  19,  -5,   8, -23,  28,  10,\n",
       "         0,  13,  23,  27,  25,  17,  17,  14,  21,  -1,   1,  20,   3,\n",
       "        -2,   3,   1,  27,  -1,  18,  -7,  -4,  22,  12,   9,  28,  33,\n",
       "         7,  -4,   0,  20,  21,  27,  17,  21,   2,   4, -11,  21,   3,\n",
       "         5,  19,   3,  -3,  16,   2,  16,   5,  26,  18,  21,  24,   4,\n",
       "        -2,  -8,  10,  20,  25,   4,   0,  24,  27,  -1,  22,  24,  31,\n",
       "       -10,   2,  24,   0,   3,   9,  16,   7,   9,   5, -14,  11,   7,\n",
       "        20,   2, -19,  13,   4,  17,   4,   5,  24,   6,  16,  19,  23,\n",
       "         5,   5,  14,  16,  22,   2,  19,  20,  17,   8,  14,  17,  14,\n",
       "        16,   5,  11,   2,  12,  25,  12])"
      ]
     },
     "execution_count": 4,
     "metadata": {},
     "output_type": "execute_result"
    }
   ],
   "source": [
    "np.random.seed(321)\n",
    "N = 150\n",
    "sample_part = np.random.choice(sample_full, size=N, replace=False)\n",
    "sample_part"
   ]
  },
  {
   "cell_type": "markdown",
   "metadata": {},
   "source": [
    "Plot values frequences for full and partial sample using bar plot."
   ]
  },
  {
   "cell_type": "code",
   "execution_count": 5,
   "metadata": {},
   "outputs": [
    {
     "data": {
      "image/png": "[encoded data removed]",
      "text/plain": [
       "<Figure size 640x480 with 2 Axes>"
      ]
     },
     "metadata": {},
     "output_type": "display_data"
    }
   ],
   "source": [
    "sns.set_theme()\n",
    "#, figsize=(12, 6)\n",
    "fig, ((ax1, ax2)) = plt.subplots(1, 2)\n",
    "\n",
    "ax1.hist(sample_full, alpha=0.5)\n",
    "ax1.set_title(\"sample_full\")\n",
    "ax1.set_xlabel(\"value\")\n",
    "ax1.set_ylabel(\"frequency\")\n",
    "\n",
    "ax2.hist(sample_part, color='orange', alpha=0.5)\n",
    "ax2.set_title(\"sample_part\")\n",
    "ax2.set_xlabel(\"value\")\n",
    "ax2.set_ylabel(\"frequency\")\n",
    "\n",
    "fig.tight_layout()\n",
    "\n",
    "plt.show()"
   ]
  },
  {
   "cell_type": "markdown",
   "metadata": {},
   "source": [
    "## Part 2. Parameter estimation (6 points)\n",
    "Find the following parameters' estimates and their 95% confidence intervals (except for `mode` and `skewness`). You need to show theoretical calculations (with intermediate steps) for estimates and intervals (with intermediate steps) and then make simulation."
   ]
  },
  {
   "cell_type": "markdown",
   "metadata": {},
   "source": [
    "### a) Mean and CI"
   ]
  },
  {
   "cell_type": "markdown",
   "metadata": {},
   "source": [
    "We have $n$ random samples from the initial distribution. And in that particular case it is possible to write: $$X_n = \\{X_1, ..., X_n\\} \\textasciitilde i.i.d.$$\n",
    "\n",
    "\n",
    "$$ \\hat{mean} = \\bar{X}_n  = \\frac{1}{n}\\sum_{k=1}^nX_k$$\n",
    "\n",
    "For the convenience further will be used the $\\bar{X}_n$ to denote $ \\hat{mean}$.\\\n",
    "The next step to estimate the confidence interval is to implement the Z-statistics to bring the distribution to the $\\mathcal{N}(0,1)$ form. According to the Central Limit Theorem:\n",
    "\n",
    "$$Z_n = \\frac{\\sqrt{n}(\\bar{X}_n - \\mathop{\\mathbb{E}}\\bar{X}_n)}{\\sigma} \\rightsquigarrow \\mathcal{N}(0,1)$$\n",
    "\n",
    "It is required to find a $\\sigma$. It is possible with the following formula for the sample variance:\n",
    "\n",
    "$$\\hat{\\sigma}_n^2 = \\frac{\\sum_{i=1}^n(X_i - \\bar{X}_n)^2}{n}$$\n",
    "\n",
    "One more remark: the confidence level is denoted like: $$1 - \\alpha = 0.95$$\n",
    "As it is required to get a two-tailed interval, the confidence level will be divided by 2.\n",
    "\n",
    "The general formula for the confidence interval is the following:\n",
    "\n",
    "$$CI(\\hat{mean}) = (\\bar{X}_n- z_{\\frac{\\alpha}{2}}\\sqrt{\\frac{\\hat{\\sigma}_n^2}{n}}; \\bar{X}_n + z_{\\frac{\\alpha}{2}}\\sqrt{\\frac{\\hat{\\sigma}_n^2}{n}})$$"
   ]
  },
  {
   "cell_type": "code",
   "execution_count": 6,
   "metadata": {},
   "outputs": [
    {
     "data": {
      "text/plain": [
       "'Mean 10.440 with confidence interval (8.650, 12.230)'"
      ]
     },
     "execution_count": 6,
     "metadata": {},
     "output_type": "execute_result"
    }
   ],
   "source": [
    "# Your code here\n",
    "\n",
    "def calc_mean(data, alpha, n):\n",
    "    mean = np.mean(data)\n",
    "    z = norm.ppf(1 - alpha / 2)\n",
    "    var = np.var(data, ddof=0)\n",
    "    return mean, (mean - z * np.sqrt(var / n), mean + z * np.sqrt(var / n))\n",
    "\n",
    "\n",
    "mean, (lower, upper) = calc_mean(sample_part, alpha=0.05, n=150)\n",
    "f\"Mean {mean:.3f} with confidence interval ({lower:.3f}, {upper:.3f})\""
   ]
  },
  {
   "cell_type": "markdown",
   "metadata": {},
   "source": [
    "### b) Median and CI\n",
    "\n",
    "Assuming that PDF is continuous at the median point, it is possible to do the following:\n",
    "\n",
    "$$ \\hat{median} = arg\\min_m \\sum_{k=1}^n |X_k-m|$$\n",
    "\n",
    "$$f(\\hat{median}) = \\frac{1}{\\sqrt{2\\pi\\sigma^2}},$$\n",
    "where $f$ - a pdf function.\n",
    "\n",
    "According to Laplace, it is possible to write the following:\n",
    "\n",
    "$$\\frac{\\hat{median}_n - median}{\\sqrt{\\frac{\\pi\\sigma^2}{2n}}} \\leadsto \\mathcal{N}(0,1)$$\n",
    "\n",
    "Hence,\n",
    "$$\\mathbb{P}\\Bigg(-z_{1 - \\frac{\\alpha}{2}} < \\frac{\\hat{median}_n - median}{\\sqrt{\\frac{\\pi\\hat\\sigma^2_n}{2n}}} < z_{1 - \\frac{\\alpha}{2}}\\Bigg) \\longrightarrow 1 - \\alpha$$\n",
    "\n",
    "And the confidence interval for the median can be found like that:\n",
    "\n",
    "$$ CI(\\hat{median}) = \\bigg(\\hat{median}_n - z_{1 - \\frac{\\alpha}{2}}\\sqrt{\\frac{\\pi\\hat\\sigma^2_n}{2n}}, \\hat{median}_n + z_{1 - \\frac{\\alpha}{2}}\\sqrt{\\frac{\\pi\\hat\\sigma^2_n}{2n}}\\bigg)$$"
   ]
  },
  {
   "cell_type": "code",
   "execution_count": 7,
   "metadata": {},
   "outputs": [
    {
     "data": {
      "text/plain": [
       "'Median 10.500 with normal-based confidence interval (8.257, 12.743)'"
      ]
     },
     "execution_count": 7,
     "metadata": {},
     "output_type": "execute_result"
    }
   ],
   "source": [
    "# Your code here\n",
    "\n",
    "def calc_median(data, alpha, n):\n",
    "    z = stats.norm.ppf(1 - alpha / 2)\n",
    "\n",
    "    median = np.median(data)\n",
    "    var = np.var(data, ddof=0)\n",
    "\n",
    "    sem_int = z * np.sqrt(np.pi * var / (2 * n))\n",
    "    left_tail, right_tail = median - sem_int, median + sem_int\n",
    "\n",
    "    return median, (left_tail, right_tail)\n",
    "\n",
    "median, (lower, upper) = calc_median(sample_part, alpha=0.05, n=150)\n",
    "f\"Median {median:.3f} with normal-based confidence interval ({lower:.3f}, {upper:.3f})\""
   ]
  },
  {
   "cell_type": "markdown",
   "metadata": {},
   "source": [
    "### c) Variance and CI\n",
    "\n",
    "Assuming that the sample comes from a normal distribution, but the mean and variance are not known, allows to implement the Fisher's theorem for the normal samples:\n",
    "\n",
    "$$H = \\frac{(n-1)S^2}{\\sigma_n^2},$$\n",
    "where $S^2$ - an unbiased sample variance. $H$ has the $\\chi^2(n-1)$ distribution.\n",
    "\n",
    "$$ \\hat{Variance} = \\sigma_n^2 = \\frac{\\sum_{i=1}^n(X_i-\\bar{X})^2}{n-1}$$\n",
    "\n",
    "\n",
    "For the convenience further $\\hat{Variance}$ will be denoted like $\\sigma^2$.\n",
    "\n",
    "$$ CI(\\hat{Variance}) = \\mathbb{P}(\\frac{nS^2}{\\chi_{1-\\frac{\\alpha}{2}, n-1}^2} \\leq \\sigma^2 \\leq \\frac{nS^2}{\\chi_{\\frac{\\alpha}{2}, n-1}^2})$$"
   ]
  },
  {
   "cell_type": "code",
   "execution_count": 8,
   "metadata": {},
   "outputs": [
    {
     "data": {
      "text/plain": [
       "'Variance 125.073 with confidence interval (101.582, 160.216)'"
      ]
     },
     "execution_count": 8,
     "metadata": {},
     "output_type": "execute_result"
    }
   ],
   "source": [
    "# Your code here\n",
    "\n",
    "def calc_variance(data, alpha, n):\n",
    "    \n",
    "    var = np.var(data, ddof=0)\n",
    "    left_tail, right_tail = var / chi2.ppf([1 - alpha / 2, alpha / 2], df=n-1)\n",
    "    return var, (n * left_tail, n * right_tail)\n",
    "\n",
    "\n",
    "var, (lower, upper) = calc_variance(sample_part, alpha=0.05, n=150)\n",
    "f\"Variance {var:.3f} with confidence interval ({lower:.3f}, {upper:.3f})\""
   ]
  },
  {
   "cell_type": "markdown",
   "metadata": {},
   "source": [
    "### d) Mode (most frequent value in a sample)"
   ]
  },
  {
   "cell_type": "code",
   "execution_count": 9,
   "metadata": {},
   "outputs": [
    {
     "data": {
      "text/plain": [
       "'Mode: 2'"
      ]
     },
     "execution_count": 9,
     "metadata": {},
     "output_type": "execute_result"
    }
   ],
   "source": [
    "# Your code here\n",
    "\n",
    "mode = stats.mode(sample_part)[0]\n",
    "f\"Mode: {mode}\""
   ]
  },
  {
   "cell_type": "markdown",
   "metadata": {},
   "source": [
    "### e) Skewness"
   ]
  },
  {
   "cell_type": "code",
   "execution_count": 10,
   "metadata": {},
   "outputs": [
    {
     "data": {
      "text/plain": [
       "'Skewness: -2.649629e-01'"
      ]
     },
     "execution_count": 10,
     "metadata": {},
     "output_type": "execute_result"
    }
   ],
   "source": [
    "# Your code here\n",
    "\n",
    "skewness = skew(sample_part)\n",
    "f\"Skewness: {skewness:e}\""
   ]
  },
  {
   "cell_type": "markdown",
   "metadata": {},
   "source": [
    "## Part 3. Bootstrap (4 points)\n",
    "\n",
    "Find confidence intervals for following estimates using bootsrap. Use function `choice` with parameter `replace=True` for bootstrap sampling. Try different numbers of generated samples."
   ]
  },
  {
   "cell_type": "code",
   "execution_count": 11,
   "metadata": {},
   "outputs": [],
   "source": [
    "# Using several functions from the seminars:\n",
    "\n",
    "np.random.seed(321)\n",
    "\n",
    "def boot_estimates(estimator, X, num_resamples=150):\n",
    "    estimates = np.empty(num_resamples)\n",
    "    for i in range(num_resamples):\n",
    "        estimates[i] = estimator(np.random.choice(X, size=len(X), replace=True))\n",
    "    return estimates\n",
    "\n",
    "def normal_interval(estimates, level=0.95):\n",
    "    alpha = 1 - level\n",
    "    s_boot = estimates.std()\n",
    "    z = scipy.stats.norm.ppf(1 - alpha/2)\n",
    "    m = estimates.mean()\n",
    "    return m - z * s_boot, m + z * s_boot"
   ]
  },
  {
   "cell_type": "markdown",
   "metadata": {},
   "source": [
    "### a) Mean and CI"
   ]
  },
  {
   "cell_type": "code",
   "execution_count": 12,
   "metadata": {},
   "outputs": [
    {
     "data": {
      "text/plain": [
       "'Mean 10.430 with confident interval (8.895, 11.683)'"
      ]
     },
     "execution_count": 12,
     "metadata": {},
     "output_type": "execute_result"
    }
   ],
   "source": [
    "# Your code here\n",
    "np.random.seed(321)\n",
    "\n",
    "def boot_interval_mean(estimates, level=0.95):\n",
    "    alpha = 1 - level\n",
    "    m = np.mean(estimates)\n",
    "    return m, (2 * m - np.quantile(estimates, 1 - alpha), 2 * m - np.quantile(estimates, alpha))\n",
    "\n",
    "mean, (lower, upper) = boot_interval_mean(boot_estimates(np.mean, sample_part, num_resamples=150))\n",
    "f\"Mean {mean:.3f} with confident interval ({lower:.3f}, {upper:.3f})\""
   ]
  },
  {
   "cell_type": "markdown",
   "metadata": {},
   "source": [
    "### b) Median and CI"
   ]
  },
  {
   "cell_type": "code",
   "execution_count": 13,
   "metadata": {},
   "outputs": [
    {
     "data": {
      "text/plain": [
       "'Median 10.500 with normal-based confident interval (6.886, 14.034)'"
      ]
     },
     "execution_count": 13,
     "metadata": {},
     "output_type": "execute_result"
    }
   ],
   "source": [
    "np.random.seed(321)\n",
    "\n",
    "median, (lower, upper) = np.median(sample_part), normal_interval(boot_estimates(np.median, sample_part))\n",
    "f\"Median {median:.3f} with normal-based confident interval ({lower:.3f}, {upper:.3f})\""
   ]
  },
  {
   "cell_type": "markdown",
   "metadata": {},
   "source": [
    "### c) Variance and CI"
   ]
  },
  {
   "cell_type": "code",
   "execution_count": 14,
   "metadata": {},
   "outputs": [
    {
     "data": {
      "text/plain": [
       "'Variance 125.073 with confident interval (99.117, 149.073)'"
      ]
     },
     "execution_count": 14,
     "metadata": {},
     "output_type": "execute_result"
    }
   ],
   "source": [
    "# Your code here\n",
    "\n",
    "np.random.seed(321)\n",
    "\n",
    "var, (lower, upper) = np.var(sample_part), normal_interval(boot_estimates(np.var, sample_part))\n",
    "f\"Variance {var:.3f} with confident interval ({lower:.3f}, {upper:.3f})\""
   ]
  },
  {
   "cell_type": "markdown",
   "metadata": {},
   "source": [
    "## Part 4. Comparison with true values (1 point)\n",
    "\n",
    "Compare with estimates calculated over full sample. Write conclusion about estimates and their confidence intervals obtained without and with bootstrap. Also, you can share some conclusions about Moscow weather :)"
   ]
  },
  {
   "cell_type": "code",
   "execution_count": 15,
   "metadata": {},
   "outputs": [
    {
     "name": "stdout",
     "output_type": "stream",
     "text": [
      "Mean: 10.136467020470054\n",
      "Median: 10.0\n",
      "Var: 129.60482886250853\n",
      "Moda: 0\n",
      "Skewness: -0.08107692908401624\n"
     ]
    }
   ],
   "source": [
    "# Your code here\n",
    "\n",
    "mean = np.mean(sample_full)\n",
    "median = np.median(sample_full)\n",
    "var = np.var(sample_full)\n",
    "moda = stats.mode(sample_full)\n",
    "skewness = skew(sample_full)\n",
    "\n",
    "print(\"Mean:\", mean)\n",
    "print(\"Median:\", median)\n",
    "print(\"Var:\", var)\n",
    "print(\"Moda:\", moda[0])\n",
    "print(\"Skewness:\", skewness)"
   ]
  },
  {
   "cell_type": "markdown",
   "metadata": {},
   "source": [
    "The bootstrap confidence intervals are smaller, than the intervals without it."
   ]
  },
  {
   "cell_type": "markdown",
   "metadata": {},
   "source": [
    "## Part 5. Confidence intervals and sample size (8 points)\n",
    "\n",
    "Compare the size of confidence intervals **for the mean** obtained without and with bootstrap. Additionally, compare the empirical coverage of different confidence intervals (by generating sufficient number of samples of corresponding size and calculating proportion of cases when the interval covers the mean of the full sample). Consider sizes `[32, 64, 128, 256, 512, 1024]`. Plot results and make conclusion about their accuracy."
   ]
  },
  {
   "cell_type": "code",
   "execution_count": 16,
   "metadata": {},
   "outputs": [
    {
     "data": {
      "text/plain": [
       "<matplotlib.legend.Legend at 0x1762287c4f0>"
      ]
     },
     "execution_count": 16,
     "metadata": {},
     "output_type": "execute_result"
    },
    {
     "data": {
      "image/png": "[encoded data removed]",
      "text/plain": [
       "<Figure size 800x600 with 1 Axes>"
      ]
     },
     "metadata": {},
     "output_type": "display_data"
    }
   ],
   "source": [
    "# Compare size of confidence intervals obtained without and with bootstrap\n",
    "# Your code here\n",
    "\n",
    "np.random.seed(1337)\n",
    "sizes = np.r_[32, 64, 128, 256, 512, 1024]\n",
    "\n",
    "def exp_exact_interval(X, level=0.95):\n",
    "    return 2 * X.sum() / scipy.stats.chi2.interval(level, df=2 * len(X))[::-1]\n",
    "\n",
    "exact_int = exp_exact_interval(sample_part)\n",
    "\n",
    "def new_calc_mean(data, level=0.95):\n",
    "    n=150\n",
    "    alpha = 1 - level\n",
    "    mean = data.mean()\n",
    "    z = norm.ppf(1 - alpha / 2)\n",
    "    var = np.var(data, ddof=0)\n",
    "    return mean - z * np.sqrt(var), mean + z * np.sqrt(var)\n",
    "\n",
    "\n",
    "norm_ints = np.empty((len(sizes), 2))\n",
    "boot_ints = np.empty_like(norm_ints)\n",
    "for i, s in enumerate(sizes):\n",
    "    norm_ints[i] = new_calc_mean(boot_estimates(np.mean, sample_part, num_resamples=s))\n",
    "    boot_ints[i] = boot_interval_mean(boot_estimates(np.mean, sample_part, num_resamples=s))[1]\n",
    "\n",
    "plt.figure(figsize=(8, 6))\n",
    "plt.fill_between(sizes, norm_ints[:, 0], norm_ints[:, 1], alpha=0.2, label='Normal interval')\n",
    "plt.fill_between(sizes, boot_ints[:, 0], boot_ints[:, 1], alpha=0.2, label='Bootstrap interval')\n",
    "plt.fill_between(sizes, [exact_int[0]] * len(sizes), [exact_int[1]] * len(sizes), alpha=0.2, label='Exact interval')\n",
    "plt.plot(sizes, [sample_part.mean()]*len(sizes), 'k--', label='Estimate')\n",
    "plt.xscale('log')\n",
    "plt.xlabel('Number of bootstrap resamples')\n",
    "plt.legend(loc='center')"
   ]
  },
  {
   "cell_type": "code",
   "execution_count": 17,
   "metadata": {},
   "outputs": [
    {
     "data": {
      "text/plain": [
       "<matplotlib.legend.Legend at 0x17622d4fdc0>"
      ]
     },
     "execution_count": 17,
     "metadata": {},
     "output_type": "execute_result"
    },
    {
     "data": {
      "image/png": "[encoded data removed]",
      "text/plain": [
       "<Figure size 700x500 with 1 Axes>"
      ]
     },
     "metadata": {},
     "output_type": "display_data"
    }
   ],
   "source": [
    "# Compare the empirical coverage of different confidence intervals\n",
    "# Your code here\n",
    "\n",
    "np.random.seed(1337)\n",
    "sizes = np.r_[32, 64, 128, 256, 512, 1024]\n",
    "num_repeats = 300\n",
    "\n",
    "\n",
    "def get_cov_prob(y_pred, y_lower, y_upper, y_true, rtol=1.e-4, atol=1.e-6):\n",
    "    \"\"\"\n",
    "    Calculate coverage probability given true output, predicted mean and confidence limits.\n",
    "    Additionally check if prediction is very close to the true output.\n",
    "    \"\"\"\n",
    "    n_cov = (((y_true >= y_lower) & (y_true <= y_upper))\n",
    "                 | np.isclose(y_pred, y_true, rtol=rtol, atol=atol)) \\\n",
    "        .astype(float)\n",
    "    p_cov = np.mean(n_cov)\n",
    "    return n_cov.sum().astype(int), p_cov\n",
    "\n",
    "\n",
    "\n",
    "n_cov_exact = np.empty(len(sizes))\n",
    "p_cov_exact = np.empty_like(n_cov_exact)\n",
    "n_cov_boot = np.empty_like(n_cov_exact)\n",
    "p_cov_boot = np.empty_like(n_cov_exact)\n",
    "\n",
    "for i, s in enumerate(sizes):\n",
    "    boot_ints = np.empty((num_repeats, 2))\n",
    "    exact_ints = np.empty((num_repeats, 2))\n",
    "    estimates = np.empty(num_repeats)\n",
    "    for j in range(num_repeats):\n",
    "        Xj = np.random.exponential(scale=mean, size=s)\n",
    "        estimates[j] = Xj.mean()\n",
    "        boot_ints[j] = new_calc_mean(boot_estimates(np.mean, Xj))\n",
    "        exact_ints[j] = exp_exact_interval(Xj)\n",
    "    n_cov_boot[i], p_cov_boot[i] = get_cov_prob(estimates, boot_ints[:, 0], boot_ints[:, 1], mean)\n",
    "    n_cov_exact[i], p_cov_exact[i] = get_cov_prob(estimates, exact_ints[:, 0], exact_ints[:, 1], mean)\n",
    "\n",
    "plt.figure(figsize=(7, 5))\n",
    "plt.plot(sizes, p_cov_boot, '-o', label='Bootstrap')\n",
    "plt.plot(sizes, p_cov_exact, '-o', label='Exact')\n",
    "plt.plot(sizes, [0.95] * len(sizes), 'k--', label='Theoretical')\n",
    "plt.xscale('log')\n",
    "plt.suptitle(f'Coverage probability of different confidence intervals')\n",
    "plt.title(f'estimated with {num_repeats} repetitions')\n",
    "plt.xlabel('Sample size')\n",
    "plt.legend()"
   ]
  },
  {
   "cell_type": "markdown",
   "metadata": {},
   "source": [
    "The confidence intevals with bootstrap are smaller, than the intervals without the bootstrap."
   ]
  },
  {
   "cell_type": "markdown",
   "metadata": {},
   "source": [
    "# Task 2. Currency in RC-circuit (25 points)\n",
    "\n",
    "In this part you need to estimate parameters and apply delta method. \n",
    "\n",
    "First of all, you will need some libraries. Also, fix random seed to get reproducible results."
   ]
  },
  {
   "cell_type": "code",
   "execution_count": 18,
   "metadata": {},
   "outputs": [],
   "source": [
    "import numpy as np\n",
    "from scipy.stats import norm, uniform\n",
    "from numpy.random import choice, seed\n",
    "\n",
    "seed(42)"
   ]
  },
  {
   "cell_type": "markdown",
   "metadata": {},
   "source": [
    "## Part 1. Estimate parameters (4 points)"
   ]
  },
  {
   "cell_type": "markdown",
   "metadata": {},
   "source": [
    "Assume that there is an RC-circuit with a capacitor and a resistor. \n",
    "<img src=\"circuit.png\" width=\"200\"  class=\"center\">\n",
    "\n",
    "We charge the capacitor until it reaches voltage $V$ and measure current intensity. In this case voltage on the capacitor yields the formula for exponential decay:\n",
    "\n",
    "$$ V_C(t) = V e^{-\\frac{t}{RC}} $$\n",
    "\n",
    "Let's assume that voltage $V$ and resistence $R$ are independent and belong to the following distributions:\n",
    "\n",
    "\n",
    "### b) \n",
    "$V \\sim \\mathcal{N}(16, 2)$, \n",
    "\n",
    "$R \\sim \\text{Exp}(20)$\n",
    "\n",
    "Consider **true values** for $V$ and $R$ to be the means of the corresponding distributions."
   ]
  },
  {
   "cell_type": "markdown",
   "metadata": {},
   "source": [
    "Generate sample for $V$ of size 100. Apply maximum likelihood to estimate the mean. Show theoretical calculations for the estimates (with intermediate steps) and make simulation.\n",
    "\n",
    "$$\\hat{V}_{n} = ...$$"
   ]
  },
  {
   "cell_type": "code",
   "execution_count": 19,
   "metadata": {},
   "outputs": [],
   "source": [
    "# Your code here\n"
   ]
  },
  {
   "cell_type": "markdown",
   "metadata": {},
   "source": [
    "Generate sample for $R$ on size 100. Apply maximum likelihood to estimate the mean. Show theoretical calculations for estimates (with intermediate steps) and make simulation.\n",
    "\n",
    "$$\\hat{R}_{n} = ...$$\n"
   ]
  },
  {
   "cell_type": "code",
   "execution_count": 20,
   "metadata": {},
   "outputs": [],
   "source": [
    "# Your code here\n"
   ]
  },
  {
   "cell_type": "markdown",
   "metadata": {},
   "source": [
    "## Part 2. Apply delta method (8 points)"
   ]
  },
  {
   "cell_type": "markdown",
   "metadata": {},
   "source": [
    "Assume, that we measure current intensity after 1 second. Let's take $C = 1$. In this case we get the following simplified formula:\n",
    "\n",
    "$$I = \\frac{V}{R} e^{-\\frac{1}{R}}.$$\n",
    "\n",
    "Find estimate for current and it's confidence interval. Show theoretical calculations for estimates (with intermediate steps) and make simulation.\n",
    "\n",
    "$$\\hat{I}_n = ...$$\n",
    "\n",
    "$$ CI(\\hat{I}_n) = ...$$"
   ]
  },
  {
   "cell_type": "code",
   "execution_count": 21,
   "metadata": {},
   "outputs": [
    {
     "ename": "TypeError",
     "evalue": "unsupported format string passed to ellipsis.__format__",
     "output_type": "error",
     "traceback": [
      "\u001b[1;31m---------------------------------------------------------------------------\u001b[0m",
      "\u001b[1;31mTypeError\u001b[0m                                 Traceback (most recent call last)",
      "Cell \u001b[1;32mIn[21], line 4\u001b[0m\n\u001b[0;32m      1\u001b[0m \u001b[38;5;66;03m# Your code here\u001b[39;00m\n\u001b[0;32m      3\u001b[0m se \u001b[38;5;241m=\u001b[39m \u001b[38;5;241m.\u001b[39m\u001b[38;5;241m.\u001b[39m\u001b[38;5;241m.\u001b[39m\n\u001b[1;32m----> 4\u001b[0m \u001b[38;5;124mf\u001b[39m\u001b[38;5;124m\"\u001b[39m\u001b[38;5;124mSE for delta method: \u001b[39m\u001b[38;5;132;01m{\u001b[39;00mse\u001b[38;5;132;01m:\u001b[39;00m\u001b[38;5;124me\u001b[39m\u001b[38;5;132;01m}\u001b[39;00m\u001b[38;5;124m\"\u001b[39m\n",
      "\u001b[1;31mTypeError\u001b[0m: unsupported format string passed to ellipsis.__format__"
     ]
    }
   ],
   "source": [
    "# Your code here\n",
    "\n",
    "se = ...\n",
    "f\"SE for delta method: {se:e}\""
   ]
  },
  {
   "cell_type": "markdown",
   "metadata": {},
   "source": [
    "## Part 3. Non-parametric bootstrap estimation (2 points)\n",
    "\n",
    "Estimate confidence interval for $I$ using non-parametric bootstrap."
   ]
  },
  {
   "cell_type": "code",
   "execution_count": null,
   "metadata": {},
   "outputs": [],
   "source": [
    "# Your code here\n",
    "\n",
    "se = ...\n",
    "f\"SE for non-parametric bootstrap: {se:e}\""
   ]
  },
  {
   "cell_type": "markdown",
   "metadata": {},
   "source": [
    "## Part 4. Parametric bootstrap estimation (3 points)\n",
    "\n",
    "Estimate confidence interval for $I$ using parametric bootstrap."
   ]
  },
  {
   "cell_type": "code",
   "execution_count": null,
   "metadata": {},
   "outputs": [],
   "source": [
    "# Your code here\n",
    "\n",
    "se = ...\n",
    "f\"SE for parametric bootstrap: {se:e}\""
   ]
  },
  {
   "cell_type": "markdown",
   "metadata": {},
   "source": [
    "## Part 5. Compare results (8 points)"
   ]
  },
  {
   "cell_type": "markdown",
   "metadata": {},
   "source": [
    "Compare the size of confidence intervals obtained using delta method, parametric and non-parametric bootstrap. Additionally, compare the empirical coverage of different confidence intervals (by generating sufficient number of samples of corresponding size and calculating proportion of cases when the interval covers the true value for the current $I$). Consider sizes `[1e1, ..., 1e4]`. Plot results and make conclusion about their accuracy."
   ]
  },
  {
   "cell_type": "code",
   "execution_count": null,
   "metadata": {},
   "outputs": [],
   "source": [
    "sizes = np.logspace(1, 4, 4).astype(np.int)"
   ]
  },
  {
   "cell_type": "code",
   "execution_count": null,
   "metadata": {},
   "outputs": [],
   "source": [
    "# Compare size of confidence intervals obtained using delta method, parametric and non-parametric bootstrap\n",
    "# Your code here\n",
    "\n"
   ]
  },
  {
   "cell_type": "code",
   "execution_count": null,
   "metadata": {},
   "outputs": [],
   "source": [
    "# Plot results\n",
    "# Your code here\n"
   ]
  },
  {
   "cell_type": "code",
   "execution_count": null,
   "metadata": {},
   "outputs": [],
   "source": [
    "# Compare an empirical coverage of different confidence intervals\n",
    "# Your code here\n",
    "\n"
   ]
  },
  {
   "cell_type": "code",
   "execution_count": null,
   "metadata": {},
   "outputs": [],
   "source": [
    "# Plot results\n",
    "# Your code here\n",
    "\n"
   ]
  },
  {
   "cell_type": "markdown",
   "metadata": {},
   "source": [
    "Your conclusion:\n",
    "\n"
   ]
  }
 ],
 "metadata": {
  "kernelspec": {
   "display_name": "Python 3 (ipykernel)",
   "language": "python",
   "name": "python3"
  },
  "language_info": {
   "codemirror_mode": {
    "name": "ipython",
    "version": 3
   },
   "file_extension": ".py",
   "mimetype": "text/x-python",
   "name": "python",
   "nbconvert_exporter": "python",
   "pygments_lexer": "ipython3",
   "version": "3.10.11"
  }
 },
 "nbformat": 4,
 "nbformat_minor": 4
}
