{
 "cells": [
  {
   "cell_type": "code",
   "execution_count": 1,
   "metadata": {},
   "outputs": [],
   "source": [
    "import numpy as np\n",
    "import scipy\n",
    "import scipy.stats as sps\n",
    "import pandas as pd\n",
    "import matplotlib.pyplot as plt\n",
    "from statsmodels.stats.multitest import multipletests"
   ]
  },
  {
   "cell_type": "markdown",
   "metadata": {},
   "source": [
    "# Homework 2\n",
    "## Hypothesis testing"
   ]
  },
  {
   "cell_type": "markdown",
   "metadata": {},
   "source": [
    "Each task is worth 5 points. Additionally, some tasks allow you to get a bonus point, that **can not** increase your total score for the homework beyond the maximum, but can compensate for some occasionally lost points."
   ]
  },
  {
   "cell_type": "markdown",
   "metadata": {},
   "source": [
    "### Task 1: multiple comparisons (Wasserman, exercise 10.11)"
   ]
  },
  {
   "cell_type": "markdown",
   "metadata": {},
   "source": [
    "A randomized, double-blind experiment was conducted to assess the\n",
    "effectiveness of several drugs for reducing postoperative nausea. The\n",
    "data are as follows:"
   ]
  },
  {
   "cell_type": "code",
   "execution_count": 2,
   "metadata": {},
   "outputs": [
    {
     "data": {
      "text/html": [
       "<div>\n",
       "<style scoped>\n",
       "    .dataframe tbody tr th:only-of-type {\n",
       "        vertical-align: middle;\n",
       "    }\n",
       "\n",
       "    .dataframe tbody tr th {\n",
       "        vertical-align: top;\n",
       "    }\n",
       "\n",
       "    .dataframe thead th {\n",
       "        text-align: right;\n",
       "    }\n",
       "</style>\n",
       "<table border=\"1\" class=\"dataframe\">\n",
       "  <thead>\n",
       "    <tr style=\"text-align: right;\">\n",
       "      <th></th>\n",
       "      <th>Drug</th>\n",
       "      <th>Number of Patients</th>\n",
       "      <th>Incidence of Nausea</th>\n",
       "    </tr>\n",
       "  </thead>\n",
       "  <tbody>\n",
       "    <tr>\n",
       "      <th>0</th>\n",
       "      <td>Placebo</td>\n",
       "      <td>80</td>\n",
       "      <td>45</td>\n",
       "    </tr>\n",
       "    <tr>\n",
       "      <th>1</th>\n",
       "      <td>Chlorpromazine</td>\n",
       "      <td>75</td>\n",
       "      <td>26</td>\n",
       "    </tr>\n",
       "    <tr>\n",
       "      <th>2</th>\n",
       "      <td>Dimenhydrinate</td>\n",
       "      <td>85</td>\n",
       "      <td>52</td>\n",
       "    </tr>\n",
       "    <tr>\n",
       "      <th>3</th>\n",
       "      <td>Pentobarbital (100 mg)</td>\n",
       "      <td>67</td>\n",
       "      <td>35</td>\n",
       "    </tr>\n",
       "    <tr>\n",
       "      <th>4</th>\n",
       "      <td>Pentobarbital (150 mg)</td>\n",
       "      <td>85</td>\n",
       "      <td>37</td>\n",
       "    </tr>\n",
       "  </tbody>\n",
       "</table>\n",
       "</div>"
      ],
      "text/plain": [
       "                     Drug  Number of Patients  Incidence of Nausea\n",
       "0                 Placebo                  80                   45\n",
       "1          Chlorpromazine                  75                   26\n",
       "2          Dimenhydrinate                  85                   52\n",
       "3  Pentobarbital (100 mg)                  67                   35\n",
       "4  Pentobarbital (150 mg)                  85                   37"
      ]
     },
     "execution_count": 2,
     "metadata": {},
     "output_type": "execute_result"
    }
   ],
   "source": [
    "df = pd.DataFrame({'Drug': ['Placebo', 'Chlorpromazine', 'Dimenhydrinate', 'Pentobarbital (100 mg)', 'Pentobarbital (150 mg)'],\n",
    "                    'Number of Patients': [80, 75, 85, 67, 85],\n",
    "                    'Incidence of Nausea': [45, 26, 52, 35, 37]})\n",
    "df"
   ]
  },
  {
   "cell_type": "markdown",
   "metadata": {},
   "source": [
    "1. Test each drug versus the placebo at the 5% level. Also, report\n",
    "the estimated odds–ratios. Summarize your findings. (2 points)\n",
    "2. Use the Bonferroni and the FDR method to adjust for multiple\n",
    "testing. (Beecher (1959)) (3 points)\n",
    "3. Reproduce plot similar to Figure 10.6 from the book, displaying observed $p$-values and different thresholds used (1 bonus point)\n",
    "\n",
    "*Hint*. Use simple $H_0$: \"$p_{drug} = p_{placebo}$\"."
   ]
  },
  {
   "cell_type": "markdown",
   "metadata": {},
   "source": [
    "1. Test each drug versus the placebo at the 5% level. Also, report\n",
    "the estimated odds–ratios. Summarize your findings. (2 points)"
   ]
  },
  {
   "cell_type": "markdown",
   "metadata": {},
   "source": [
    "It's convenient to use a Wald criterion here."
   ]
  },
  {
   "cell_type": "code",
   "execution_count": 3,
   "metadata": {},
   "outputs": [
    {
     "name": "stdout",
     "output_type": "stream",
     "text": [
      "Seems, that Chlorpromazine really works.\n",
      "Its odd ratio is: 0.4126984126984127.\n",
      "\n",
      "\n",
      "Seems, that Dimenhydrinate does not really work.\n",
      "Its odd ratio is: 1.2255892255892253.\n",
      "\n",
      "\n",
      "Seems, that Pentobarbital (100 mg) does not really work.\n",
      "Its odd ratio is: 0.8506944444444444.\n",
      "\n",
      "\n",
      "Seems, that Pentobarbital (150 mg) does not really work.\n",
      "Its odd ratio is: 0.599537037037037.\n",
      "\n",
      "\n"
     ]
    }
   ],
   "source": [
    "alpha = 0.05\n",
    "\n",
    "# H_0:\n",
    "placebo_number = df.iloc[0:1].values[0][1]\n",
    "placebo_inc = df.iloc[0:1].values[0][2]\n",
    "hypothesis_mean = placebo_inc / placebo_number\n",
    "\n",
    "odd_ratios = []\n",
    "pvalues_ttest = []\n",
    "wald_vals = []\n",
    "p_values = []\n",
    "\n",
    "for i in range(1, len(df)):\n",
    "    numb, incid = df.iloc[i:i+1].values[0][1:]\n",
    "    curr_mean = incid / numb\n",
    "    \n",
    "    # As it is considered as a Bernoulli distribution, its sample variance is\n",
    "    # represented like pn = p(1-p):\n",
    "    curr_SE = np.sqrt(curr_mean * (1 - curr_mean) / numb \\\n",
    "                      + hypothesis_mean * (1 - hypothesis_mean) / placebo_number)\n",
    "    \n",
    "    curr_delta = curr_mean - hypothesis_mean\n",
    "    wald_vals.append(abs(curr_delta / curr_SE))\n",
    "    \n",
    "    odd_ratios.append((incid / (numb - incid)) / (placebo_inc / (placebo_number - placebo_inc)))\n",
    "    \n",
    "    p_value = 2 * (1 - sps.norm.cdf(wald_vals[i-1]))\n",
    "    p_values.append(p_value)\n",
    "    \n",
    "    if  wald_vals[i-1] > sps.norm.ppf(1 - alpha / 2):\n",
    "        print(f\"Seems, that {df.Drug.values[i]} really works.\")\n",
    "        print(f\"Its odd ratio is: {odd_ratios[i-1]}.\")\n",
    "    else:\n",
    "        print(f\"Seems, that {df.Drug.values[i]} does not really work.\")\n",
    "        print(f\"Its odd ratio is: {odd_ratios[i-1]}.\")\n",
    "    print(\"\\n\")"
   ]
  },
  {
   "cell_type": "markdown",
   "metadata": {},
   "source": [
    "So, due to the Wald's test, the only working drug is Chlorpromazine."
   ]
  },
  {
   "cell_type": "markdown",
   "metadata": {},
   "source": [
    "2. Use the Bonferroni and the FDR method to adjust for multiple\n",
    "testing. (Beecher (1959)) (3 points)"
   ]
  },
  {
   "cell_type": "code",
   "execution_count": 4,
   "metadata": {},
   "outputs": [
    {
     "name": "stdout",
     "output_type": "stream",
     "text": [
      "Method bonferroni: reject=\n",
      "[ True False False False]\n",
      " with p-values = \n",
      "[0.02281357 0.39855693 1.         1.        ], \n",
      "\n",
      "Method fdr_bh    : reject=\n",
      "[ True False False False]\n",
      " with p-values = \n",
      "[0.02281357 0.19927847 0.62666409 0.62666409], \n",
      "\n"
     ]
    }
   ],
   "source": [
    "method = \"bonferroni\" \n",
    "\n",
    "reject, bonferr_p, _, _ = multipletests(p_values, method=method, returnsorted=True)\n",
    "print(f\"Method {method:10s}: reject=\\n{reject}\\n with p-values = \\n{bonferr_p}, \\n\")\n",
    "    \n",
    "method = \"fdr_bh\"\n",
    "reject, fdr_p, _, _ = multipletests(p_values, method=method, returnsorted=True)\n",
    "print(f\"Method {method:10s}: reject=\\n{reject}\\n with p-values = \\n{fdr_p}, \\n\")    "
   ]
  },
  {
   "cell_type": "markdown",
   "metadata": {},
   "source": [
    "3. Reproduce plot similar to Figure 10.6 from the book, displaying observed $p$-values and different thresholds used (1 bonus point)"
   ]
  },
  {
   "cell_type": "code",
   "execution_count": 5,
   "metadata": {},
   "outputs": [
    {
     "data": {
      "image/png": "[encoded data removed]",
      "text/plain": [
       "<Figure size 1000x1000 with 1 Axes>"
      ]
     },
     "metadata": {},
     "output_type": "display_data"
    }
   ],
   "source": [
    "plt.figure(figsize=(10, 10))\n",
    "\n",
    "m = df[1:].shape[0]\n",
    "\n",
    "plots = [p_values, bonferr_p, fdr_p]\n",
    "\n",
    "plt.scatter(np.arange(1, 5, 1), plots[0], c='k', s=100, label='wald\\'s p-values')\n",
    "for i, j in zip(range(1, 5), plots[0]):\n",
    "    plt.plot((i, i), (0, j), 'k--')\n",
    "\n",
    "x = np.arange(0, 5, 1)\n",
    "y = alpha * x / m\n",
    "plt.plot(x, y, color=\"black\")\n",
    "\n",
    "y_ticks = [alpha, alpha / m, p_values[0]]\n",
    "y = plt.gca().set_yticks(y_ticks)\n",
    "\n",
    "plt.hlines(y_ticks, color=\"blue\", xmin=0, xmax=5)\n",
    "\n",
    "labels = plt.gca().get_yticks().tolist()\n",
    "labels = [r\"$\\alpha$\", r\"$\\frac{\\alpha}{m}$\", \"T\"]\n",
    "plt.gca().set_yticklabels(labels)\n",
    "\n",
    "plt.ylim(0, alpha + 0.05)\n",
    "plt.xlim(0, 5)\n",
    "plt.legend()\n",
    "plt.show()"
   ]
  },
  {
   "cell_type": "markdown",
   "metadata": {},
   "source": [
    "### Task 2: permutation test"
   ]
  },
  {
   "cell_type": "markdown",
   "metadata": {},
   "source": [
    "For this task we will use the famous Iris dataset, originaly studied by R.A. Fisher himself."
   ]
  },
  {
   "cell_type": "code",
   "execution_count": 6,
   "metadata": {},
   "outputs": [
    {
     "data": {
      "text/html": [
       "<div>\n",
       "<style scoped>\n",
       "    .dataframe tbody tr th:only-of-type {\n",
       "        vertical-align: middle;\n",
       "    }\n",
       "\n",
       "    .dataframe tbody tr th {\n",
       "        vertical-align: top;\n",
       "    }\n",
       "\n",
       "    .dataframe thead th {\n",
       "        text-align: right;\n",
       "    }\n",
       "</style>\n",
       "<table border=\"1\" class=\"dataframe\">\n",
       "  <thead>\n",
       "    <tr style=\"text-align: right;\">\n",
       "      <th></th>\n",
       "      <th>sepal_length</th>\n",
       "      <th>sepal_width</th>\n",
       "      <th>petal_length</th>\n",
       "      <th>petal_width</th>\n",
       "      <th>species</th>\n",
       "    </tr>\n",
       "  </thead>\n",
       "  <tbody>\n",
       "    <tr>\n",
       "      <th>0</th>\n",
       "      <td>5.1</td>\n",
       "      <td>3.5</td>\n",
       "      <td>1.4</td>\n",
       "      <td>0.2</td>\n",
       "      <td>setosa</td>\n",
       "    </tr>\n",
       "    <tr>\n",
       "      <th>1</th>\n",
       "      <td>4.9</td>\n",
       "      <td>3.0</td>\n",
       "      <td>1.4</td>\n",
       "      <td>0.2</td>\n",
       "      <td>setosa</td>\n",
       "    </tr>\n",
       "    <tr>\n",
       "      <th>2</th>\n",
       "      <td>4.7</td>\n",
       "      <td>3.2</td>\n",
       "      <td>1.3</td>\n",
       "      <td>0.2</td>\n",
       "      <td>setosa</td>\n",
       "    </tr>\n",
       "    <tr>\n",
       "      <th>3</th>\n",
       "      <td>4.6</td>\n",
       "      <td>3.1</td>\n",
       "      <td>1.5</td>\n",
       "      <td>0.2</td>\n",
       "      <td>setosa</td>\n",
       "    </tr>\n",
       "    <tr>\n",
       "      <th>4</th>\n",
       "      <td>5.0</td>\n",
       "      <td>3.6</td>\n",
       "      <td>1.4</td>\n",
       "      <td>0.2</td>\n",
       "      <td>setosa</td>\n",
       "    </tr>\n",
       "  </tbody>\n",
       "</table>\n",
       "</div>"
      ],
      "text/plain": [
       "   sepal_length  sepal_width  petal_length  petal_width species\n",
       "0           5.1          3.5           1.4          0.2  setosa\n",
       "1           4.9          3.0           1.4          0.2  setosa\n",
       "2           4.7          3.2           1.3          0.2  setosa\n",
       "3           4.6          3.1           1.5          0.2  setosa\n",
       "4           5.0          3.6           1.4          0.2  setosa"
      ]
     },
     "execution_count": 6,
     "metadata": {},
     "output_type": "execute_result"
    }
   ],
   "source": [
    "iris = pd.read_csv('https://raw.githubusercontent.com/mwaskom/seaborn-data/master/iris.csv')\n",
    "iris.head()"
   ]
  },
  {
   "cell_type": "markdown",
   "metadata": {},
   "source": [
    "We will select two species: *setosa* and *virginica* and study the sepal length."
   ]
  },
  {
   "cell_type": "code",
   "execution_count": 7,
   "metadata": {},
   "outputs": [],
   "source": [
    "X = iris[iris.species == 'setosa']['sepal_width'].values\n",
    "Y = iris[iris.species == 'virginica']['sepal_width'].values"
   ]
  },
  {
   "cell_type": "markdown",
   "metadata": {},
   "source": [
    "Test the hypothesis $H_0$: \"quantiles of level 0.25 of both flowers are equal\" vs $H_1$: \"quantile of level 0.25 (25 percentile, lower 25%) of the sepal width of *setosa* flowers is  larger than that of *virginica* flowers\". Use permutation test, approximate the full permutation distribution with 10,000 samples. (5 points)\n"
   ]
  },
  {
   "cell_type": "code",
   "execution_count": 8,
   "metadata": {},
   "outputs": [
    {
     "name": "stdout",
     "output_type": "stream",
     "text": [
      "P-value in that case is equal to 0.6885.\n"
     ]
    }
   ],
   "source": [
    "# A self-written function:\n",
    "import random\n",
    "\n",
    "N = 10000 # the number of samples\n",
    "\n",
    "\n",
    "def permutation_test(X, Y, N):\n",
    "    list_x = X.tolist()\n",
    "    list_y = Y.tolist()\n",
    "    list = list_x + list_y\n",
    "    diffs = []\n",
    "    \n",
    "    for i in range(N):\n",
    "        random.shuffle(list)\n",
    "        diffs.append(np.quantile(a=list[:50], q=0.25) - np.quantile(a=list[50:], q=0.25))\n",
    "\n",
    "    k = 0\n",
    "    for i in range(N):\n",
    "        if diffs[i] >= 0:\n",
    "            k += 1\n",
    "\n",
    "    return diffs, k / N\n",
    "\n",
    "perm_list, perm_val = permutation_test(X, Y, N)\n",
    "\n",
    "print(f\"P-value in that case is equal to {perm_val}.\")"
   ]
  },
  {
   "cell_type": "code",
   "execution_count": 9,
   "metadata": {},
   "outputs": [
    {
     "name": "stdout",
     "output_type": "stream",
     "text": [
      "P-value in that case is equal to 0.6442355764423557.\n"
     ]
    }
   ],
   "source": [
    "# A library function:\n",
    "\n",
    "N = 10000 # the number the of samples\n",
    "\n",
    "def statistic(x, y):\n",
    "    list = x+y\n",
    "    return np.quantile(a=list, q=0.25) # quantile of level 0.25\n",
    "\n",
    "result = sps.permutation_test((X, Y), statistic=statistic, n_resamples=N, alternative=\"less\")\n",
    "\n",
    "p_value = result.pvalue\n",
    "print(f\"P-value in that case is equal to {p_value}.\")"
   ]
  },
  {
   "cell_type": "markdown",
   "metadata": {},
   "source": [
    "As the p-value is large, the $H_0$ hypothesis holds."
   ]
  },
  {
   "cell_type": "markdown",
   "metadata": {},
   "source": [
    "### Task 3: computational approach to hypothesis testing"
   ]
  },
  {
   "cell_type": "markdown",
   "metadata": {},
   "source": [
    "Recommended reading: http://allendowney.blogspot.com/2016/06/there-is-still-only-one-test.html"
   ]
  },
  {
   "cell_type": "markdown",
   "metadata": {},
   "source": [
    "Consider the following dataset (service hours between failures of the air-conditioning equipment in a Boeing 720 jet aircraft , Proschan, 1963):"
   ]
  },
  {
   "cell_type": "code",
   "execution_count": 10,
   "metadata": {},
   "outputs": [],
   "source": [
    "Y = np.array([3, 5, 7, 18, 43, 85, 91, 98, 100, 130, 230, 487])"
   ]
  },
  {
   "cell_type": "markdown",
   "metadata": {},
   "source": [
    "This sample was sorted for easier presentation."
   ]
  },
  {
   "cell_type": "markdown",
   "metadata": {},
   "source": [
    "1. Compute an estimate of the median time between failures (1 point)\n",
    "2. Consider the null hypothesis $H_0$ to be: \"median time between failures is one week\" (1 point)\n",
    "3. What distribution will you choose for this kind of data under $H_0$? (1 point)\n",
    "4. Choose a statistic to measure the deviation from $H_0$ (effect size) (1 point)\n",
    "5. Check whether you can reject $H_0$ at significance level 5% and calculate the corresponding approximate $p$-value. Use 10,000 simulations for your experiment (1 point)\n",
    "6. Plot histogram of simulated effect sizes and mark the observed effect size (1 bouns point)"
   ]
  },
  {
   "cell_type": "markdown",
   "metadata": {},
   "source": [
    "### Subtask 1."
   ]
  },
  {
   "cell_type": "code",
   "execution_count": 11,
   "metadata": {},
   "outputs": [
    {
     "data": {
      "text/plain": [
       "(array([5., 3., 2., 0., 1., 0., 0., 0., 0., 1.]),\n",
       " array([  3. ,  51.4,  99.8, 148.2, 196.6, 245. , 293.4, 341.8, 390.2,\n",
       "        438.6, 487. ]),\n",
       " <BarContainer object of 10 artists>)"
      ]
     },
     "execution_count": 11,
     "metadata": {},
     "output_type": "execute_result"
    },
    {
     "data": {
      "image/png": "[encoded data removed]",
      "text/plain": [
       "<Figure size 640x480 with 1 Axes>"
      ]
     },
     "metadata": {},
     "output_type": "display_data"
    }
   ],
   "source": [
    "plt.hist(Y)"
   ]
  },
  {
   "cell_type": "markdown",
   "metadata": {},
   "source": [
    "As the distribution of the parameter looks like Exponential distribution, the right way to estimate the median is to use the following formula: $$\\hat{mean} = \\frac{1}{\\hat{\\lambda}} = \\\n",
    "\\frac{\\sum^n_{i=1}x_i}{n}$$\n",
    "\n",
    "$$\\hat{median} = \\frac{ln2}{\\hat{\\lambda}} = \\hat{mean}*ln2 $$"
   ]
  },
  {
   "cell_type": "code",
   "execution_count": 12,
   "metadata": {},
   "outputs": [
    {
     "name": "stdout",
     "output_type": "stream",
     "text": [
      "The estimate of the median between failures is equal to: 74.91765776552074.\n"
     ]
    }
   ],
   "source": [
    "median = np.log(2) * np.mean(Y)\n",
    "print(f\"The estimate of the median between failures is equal to: {median}.\")"
   ]
  },
  {
   "cell_type": "markdown",
   "metadata": {},
   "source": [
    "### Subtask 2."
   ]
  },
  {
   "cell_type": "code",
   "execution_count": 13,
   "metadata": {},
   "outputs": [
    {
     "name": "stdout",
     "output_type": "stream",
     "text": [
      "The considered null hypothesis is equal to: 168.\n"
     ]
    }
   ],
   "source": [
    "null_hypothesis = 24 * 7 # 24 hours * 7 days to obtain the quantity of hours:\n",
    "print(f\"The considered null hypothesis is equal to: {null_hypothesis}.\")"
   ]
  },
  {
   "cell_type": "markdown",
   "metadata": {},
   "source": [
    "### Subtask 3."
   ]
  },
  {
   "cell_type": "markdown",
   "metadata": {},
   "source": [
    "The plot looks like the Exponential distribution:"
   ]
  },
  {
   "cell_type": "code",
   "execution_count": 14,
   "metadata": {},
   "outputs": [
    {
     "data": {
      "image/png": "[encoded data removed]",
      "text/plain": [
       "<Figure size 640x480 with 1 Axes>"
      ]
     },
     "metadata": {},
     "output_type": "display_data"
    }
   ],
   "source": [
    "plt.plot(Y)\n",
    "plt.title(\"Distribution of the data\")\n",
    "plt.xlabel(\"Number of failures\")\n",
    "plt.ylabel(\"Hours\")\n",
    "plt.show()"
   ]
  },
  {
   "cell_type": "markdown",
   "metadata": {},
   "source": [
    "### Subtask 4."
   ]
  },
  {
   "cell_type": "markdown",
   "metadata": {},
   "source": [
    "It seems, that it is nice to use Wald's criterion.\n",
    "\n",
    "$$W_n = \\frac{\\hat{\\theta}_n - \\theta_0}{\\hat{se}} \\rightsquigarrow N(0,1), n \\rightarrow \\inf$$"
   ]
  },
  {
   "cell_type": "markdown",
   "metadata": {},
   "source": [
    "### Subtask 5."
   ]
  },
  {
   "cell_type": "code",
   "execution_count": 15,
   "metadata": {},
   "outputs": [
    {
     "name": "stdout",
     "output_type": "stream",
     "text": [
      "The p-value in that case is equal to: 0.17330285225467756.\n"
     ]
    }
   ],
   "source": [
    "N = 10000 # the number of simulations\n",
    "alpha = 0.05\n",
    "\n",
    "est_lambda = np.log(2) / null_hypothesis\n",
    "sample_medians = []\n",
    "\n",
    "for i in range(N):\n",
    "    sample = sps.expon.rvs(scale=1 / est_lambda, size=len(Y))\n",
    "    sample_medians.append(np.median(sample))\n",
    "\n",
    "se = np.std(sample_medians)\n",
    "wald_val = abs((median - null_hypothesis) / se)\n",
    "p_value = 2 * (1 - sps.norm.cdf(abs(wald_val)))\n",
    "print(f\"The p-value in that case is equal to: {p_value}.\")"
   ]
  },
  {
   "cell_type": "markdown",
   "metadata": {},
   "source": [
    "Due to the p-value, there is no need to reject the $H_0$."
   ]
  },
  {
   "cell_type": "markdown",
   "metadata": {},
   "source": [
    "### Subtask 6."
   ]
  },
  {
   "cell_type": "code",
   "execution_count": 16,
   "metadata": {},
   "outputs": [
    {
     "data": {
      "image/png": "[encoded data removed]",
      "text/plain": [
       "<Figure size 1500x1000 with 1 Axes>"
      ]
     },
     "metadata": {},
     "output_type": "display_data"
    }
   ],
   "source": [
    "plt.figure(figsize=(15, 10))\n",
    "\n",
    "plt.hist(sample_medians, bins=100)\n",
    "plt.title('Histogram of simulated effect sizes', fontsize=20)\n",
    "\n",
    "plt.axvline(median, 0, 1, color='orange', label=\"Estimated median value\")\n",
    "\n",
    "plt.xlabel('Frequency', fontsize=20)\n",
    "plt.ylabel('Value', fontsize=20)\n",
    "\n",
    "plt.legend()\n",
    "plt.show()"
   ]
  },
  {
   "cell_type": "markdown",
   "metadata": {},
   "source": [
    "The plot confirms the conclusion above."
   ]
  },
  {
   "cell_type": "markdown",
   "metadata": {},
   "source": [
    "### Task 4. Power analysis .Bonus. "
   ]
  },
  {
   "cell_type": "markdown",
   "metadata": {},
   "source": [
    "In 1861, 10 essays appeared in the New Orleans Daily Crescent. They\n",
    "were signed “Quintus Curtius Snodgrass” and some people suspected\n",
    "they were actually written by Mark Twain. To investigate this, we will\n",
    "consider the proportion of three letter words found in an author’s work.\n",
    "From eight Twain essays we have:"
   ]
  },
  {
   "cell_type": "code",
   "execution_count": 17,
   "metadata": {},
   "outputs": [],
   "source": [
    "X = np.array([.225, .262, .217, .240, .230, .229, .235, .217])"
   ]
  },
  {
   "cell_type": "markdown",
   "metadata": {},
   "source": [
    "From 10 Snodgrass essays we have:"
   ]
  },
  {
   "cell_type": "code",
   "execution_count": 18,
   "metadata": {},
   "outputs": [],
   "source": [
    "Y = np.array([.209, .205, .196, .210, .202, .207, .224, .223, .220, .201])"
   ]
  },
  {
   "cell_type": "markdown",
   "metadata": {},
   "source": [
    "1. Perform a Wald test for equality of the means. Use the nonparametric plug-in estimator. Report the $p$-value and a 95% confidence\n",
    "interval for the difference of means. What do you conclude? (1.5 points)\n",
    "2. Now use a permutation test to avoid the use of large sample methods.\n",
    "What is your conclusion? (Brinegar (1963)) (1.5 points)\n",
    "3. Assume that samples do indeed come from different populations. Additionally, observed sample means and variaces for the two samples are equal to the true values for the respective population. Estimate the power of the two tests above under two model distributions for the data: Normal and [Beta](https://en.wikipedia.org/wiki/Beta_distribution) (use the same family for both samples) (2 points)"
   ]
  },
  {
   "cell_type": "code",
   "execution_count": 19,
   "metadata": {},
   "outputs": [
    {
     "data": {
      "text/plain": [
       "(array([2., 1., 2., 1., 0., 1., 0., 0., 0., 1.]),\n",
       " array([0.217 , 0.2215, 0.226 , 0.2305, 0.235 , 0.2395, 0.244 , 0.2485,\n",
       "        0.253 , 0.2575, 0.262 ]),\n",
       " <BarContainer object of 10 artists>)"
      ]
     },
     "execution_count": 19,
     "metadata": {},
     "output_type": "execute_result"
    },
    {
     "data": {
      "image/png": "[encoded data removed]",
      "text/plain": [
       "<Figure size 640x480 with 1 Axes>"
      ]
     },
     "metadata": {},
     "output_type": "display_data"
    }
   ],
   "source": [
    "plt.hist(X)"
   ]
  },
  {
   "cell_type": "code",
   "execution_count": 20,
   "metadata": {},
   "outputs": [
    {
     "data": {
      "text/plain": [
       "(array([1., 1., 1., 2., 2., 0., 0., 0., 1., 2.]),\n",
       " array([0.196 , 0.1988, 0.2016, 0.2044, 0.2072, 0.21  , 0.2128, 0.2156,\n",
       "        0.2184, 0.2212, 0.224 ]),\n",
       " <BarContainer object of 10 artists>)"
      ]
     },
     "execution_count": 20,
     "metadata": {},
     "output_type": "execute_result"
    },
    {
     "data": {
      "image/png": "[encoded data removed]",
      "text/plain": [
       "<Figure size 640x480 with 1 Axes>"
      ]
     },
     "metadata": {},
     "output_type": "display_data"
    }
   ],
   "source": [
    "plt.hist(Y)"
   ]
  },
  {
   "cell_type": "markdown",
   "metadata": {},
   "source": [
    "### Subtask 1"
   ]
  },
  {
   "cell_type": "code",
   "execution_count": 21,
   "metadata": {},
   "outputs": [],
   "source": [
    "def estimation(X, Y, alpha): # X and Y are samples:\n",
    "    x_mean = np.mean(X)\n",
    "    y_mean = np.mean(Y)\n",
    "    \n",
    "    x_var = np.var(X, ddof=1)\n",
    "    y_var = np.var(Y, ddof=1)\n",
    "    \n",
    "    se = np.sqrt(x_var / len(X) + y_var / len(Y))\n",
    "\n",
    "    wald = (x_mean - y_mean) / se\n",
    "    \n",
    "    p_value = 2 * (1 - sps.norm.cdf(wald))\n",
    "    z = sps.norm.ppf(1 - alpha / 2)\n",
    "\n",
    "    return (wald > z), p_value, [wald - se * z, wald + se * z]"
   ]
  },
  {
   "cell_type": "code",
   "execution_count": 22,
   "metadata": {},
   "outputs": [
    {
     "name": "stdout",
     "output_type": "stream",
     "text": [
      "We reject the H_0 hypothesis because due to the Wald's test that text unlikely belongs to Mark Twain.\n",
      "Its p-value equals to: 0.00021260028225800198.\n",
      "The 0.05 confidence interval is: [3.691818274183975, 3.715288814483666].\n"
     ]
    }
   ],
   "source": [
    "alpha = 0.05\n",
    "verdict, p, conf_int = estimation(X, Y, alpha)\n",
    "if verdict == True:\n",
    "    print(\"We reject the H_0 hypothesis because due to the Wald's test that text unlikely belongs to Mark Twain.\")\n",
    "    print(f\"Its p-value equals to: {p}.\")\n",
    "    print(f\"The {alpha} confidence interval is: {conf_int}.\")\n",
    "    \n",
    "\n",
    "else:\n",
    "    print(\"We accept the H_0 hypothesis because due to the Wald's test that text likely belongs to Mark Twain.\")\n",
    "    print(f\"Its p-value equals to: {p}.\")\n",
    "    print(f\"The {alpha} confidence interval is: {conf_int}.\")\n"
   ]
  },
  {
   "cell_type": "markdown",
   "metadata": {},
   "source": [
    "### Subtask 2"
   ]
  },
  {
   "cell_type": "code",
   "execution_count": 23,
   "metadata": {},
   "outputs": [
    {
     "name": "stdout",
     "output_type": "stream",
     "text": [
      "P-value in that case is equal to 0.0007999200079992001.\n"
     ]
    }
   ],
   "source": [
    "N = 10000 # the number of samples\n",
    "\n",
    "def statistic(x, y):\n",
    "    return np.mean(x) - np.mean(y)\n",
    "\n",
    "result = sps.permutation_test((X, Y), statistic=statistic, n_resamples=N, alternative='greater')\n",
    "\n",
    "p_value = result.pvalue\n",
    "print(f\"P-value in that case is equal to {p_value}.\")\n"
   ]
  },
  {
   "cell_type": "markdown",
   "metadata": {},
   "source": [
    "P-value is really small ($\\approx$ [0.0004, 0.0007]), so the $H_0$ is rejected again. However, that method is better for small samples, so it is possible to consider, that that P-value is more accurate."
   ]
  }
 ],
 "metadata": {
  "kernelspec": {
   "display_name": "Python 3 (ipykernel)",
   "language": "python",
   "name": "python3"
  },
  "language_info": {
   "codemirror_mode": {
    "name": "ipython",
    "version": 3
   },
   "file_extension": ".py",
   "mimetype": "text/x-python",
   "name": "python",
   "nbconvert_exporter": "python",
   "pygments_lexer": "ipython3",
   "version": "3.10.11"
  }
 },
 "nbformat": 4,
 "nbformat_minor": 4
}
