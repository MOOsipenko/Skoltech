{
 "cells": [
  {
   "cell_type": "markdown",
   "id": "497e4167",
   "metadata": {
    "id": "qQ3x6VfoEpm9"
   },
   "source": [
    "# Problem set 2 (99 pts)\n",
    "\n",
    "## Important information\n",
    "\n",
    "1. We provide signatures of the functions that you have to implement. Make sure you follow the signatures defined, otherwise your coding solutions will not be graded.\n",
    "\n",
    "2. Please submit the single Jupyter Notebook file, where only Python and Markdown/$\\LaTeX$\n",
    " are used. Any hand-written solutions inserted by photos or in any other way are prohibitive and will not be graded. If you will have any questions about using Markdown, ask them!\n",
    "\n",
    "3. The works will be checked for plagiarism. The score will be divided by the number of similar works."
   ]
  },
  {
   "cell_type": "markdown",
   "id": "f3e8a6cc",
   "metadata": {},
   "source": [
    "# Problem 1 (44 pts)\n",
    "\n",
    "Commonly enough the matrices arising in discretisations of particular problems are not just sparse, but also possess the *banded* property i.e. a general element of $A$ be $a_{ij}$, we say that it has an *upper bandwith* of $u$ and a *lower bandwith* of $l$ iff it may only nonzero between $l$-th and $u$-th main diagonals (in other words, $a_{ij}$ may only be nonzero when $i\\le j+l$ and $j\\le i+ u$). \n",
    "In particular, any upper triangular matrix of size $n\\times n$ has a lower bandwith of 1 and an upper bandwith of $n$. \n",
    "The goal of this task is to endow you with some understanding of this important matrix class. Keep in mind that vectors are column.\n",
    "\n",
    "1) (1 pts) Assume you are given a dyadic matrix $xy^T$. Suppose that only $a$ leading components of $x$ and $b$ leading components of $y$ are nonzero. What are the bandwiths of this matrix?\n",
    "\n",
    "\n",
    "2) (3 pts) Assume you are given a banded matrix $A\\in\\mathbb{R}^{n\\times n}$ with bandwiths $l$ and $u$. Examine the bandwidths of its $L$ and $U$ factors in LU decomposition, assuming its existence. Assume that the diagonal is nonzero for simplicity of the proof.\n",
    "\n",
    "3) (3 pts) Assume we also perform pivoting in computing PLU decomposition, so that $A\\ne LU$, but rather $PA = LU$. Examine the upper bandwidth of $U$.\n",
    "\n",
    "\n",
    "4) (7 pts) Based on the intuition gained so far, propose and implement an LU algorithm for banded matrices specifically. Estimate the leading term in the complexity analysis. Pivoting is not needed.\n",
    "\n",
    "\n",
    "5) (5 pts) Specify the above algorithm to tridiagonal matrices. Implement it and estimate complexity.\n",
    "\n",
    "\n",
    "6) (10 pts) Since we are dealing with direct inversions, we would also like to know how the banded matrices invert. In particular, we would like to know if we can say something about inverses' structure. Show that the inverse of a banded matrix is a matrix with low-rank off-diagonal blocks and estimate the ranks thereof. Assume the matrix diagonal blocks nonsingular.\n",
    "\n",
    "7) (10 pts) Finally, proof the following important fact, due to Strang: if both a matrix and its inverse are banded, then the matrix is a product of block diagonal factors; each factor is composed of $2\\times2$ and $1\\times1$ blocks, and the total number thereof is not dependent directly on the matrix dimension. Try to make it as convincing as you can.\n",
    "\n",
    "8) (5 pts) Consider the inverse matrix of a banded matrix with the strcuture from task 7); consider also the transpose thereof. Show that they share bandwidths."
   ]
  },
  {
   "cell_type": "code",
   "execution_count": 1,
   "id": "1d370d56",
   "metadata": {},
   "outputs": [],
   "source": [
    "# Your solution is here"
   ]
  },
  {
   "cell_type": "markdown",
   "id": "b25392d5-9a3c-4f6b-8076-81d552877beb",
   "metadata": {},
   "source": [
    "### Subtask 1"
   ]
  },
  {
   "cell_type": "markdown",
   "id": "a308b40c-4d65-4041-8463-cff62d79d949",
   "metadata": {},
   "source": [
    "Assuming, that $u$ and $l$ denote upper and lower bandwiths respectively, then if $a = b$, then $u = l = a - 1$, else $l = a - 1$ and $u = b - 1$."
   ]
  },
  {
   "cell_type": "markdown",
   "id": "b20bf2e8-12f4-422f-a8ca-8b520cb0ca3d",
   "metadata": {},
   "source": [
    "Let a = 3 and b = 3:\n",
    "\n",
    "$$\\begin{bmatrix} x_1y_1 & x_1y_2 & x_1y_3 & 0 & ... & 0  \\\\ x_2y_1 & x_2y_2 & x_2y_3 & 0 & ... & 0 \\\\ x_3y_1 & x_3y_2 & x_3y_3 & 0 & ... & 0 \\\\ 0 & 0 & 0 & 0 & ... & 0 \\end{bmatrix}$$\n",
    "\n",
    "u = l = 2"
   ]
  },
  {
   "cell_type": "markdown",
   "id": "8ddefaba-8c17-4520-87f9-10815b6e925b",
   "metadata": {},
   "source": [
    "Let a = 4 and b = 2:\n",
    "\n",
    "$$\\begin{bmatrix} x_1y_1 & x_1y_2 & 0 & 0 & ... & 0  \\\\ x_2y_1 & x_2y_2 & 0 & 0 & ... & 0 \\\\ x_3y_1 & x_3y_2 & 0 & 0 & ... & 0 \\\\ x_4y_1 & x_4y_2 & 0 & 0 & ... & 0 \\\\ 0 & 0 & 0 & 0 & ... & 0\\end{bmatrix}$$\n",
    "\n",
    "u = 1, l = 3"
   ]
  },
  {
   "cell_type": "markdown",
   "id": "5c86a464-2045-4248-b0d7-5a1016c4816c",
   "metadata": {},
   "source": [
    "### Subtask 2"
   ]
  },
  {
   "cell_type": "code",
   "execution_count": 637,
   "id": "1567db7b-0880-490c-9b35-8e68c2c9ec43",
   "metadata": {},
   "outputs": [
    {
     "data": {
      "text/plain": [
       "array([[100,   2,   0,   0,   0],\n",
       "       [  4,  60,   0,   0,   0],\n",
       "       [  5,   7,  35,   0,   0],\n",
       "       [  0,  13,  17,  19,   0],\n",
       "       [  0,   0,  33,  15,  68]])"
      ]
     },
     "execution_count": 637,
     "metadata": {},
     "output_type": "execute_result"
    }
   ],
   "source": [
    "import numpy as np\n",
    "import scipy as sps\n",
    "a = np.array([[100,2,0,0,0],[4,60,0,0,0],[5,7,35,0,0],[0,13,17,19,0],[0,0,33,15,68]])\n",
    "a"
   ]
  },
  {
   "cell_type": "code",
   "execution_count": 638,
   "id": "6fe0e3d7-eeb0-4b48-945c-3358fed1ffdc",
   "metadata": {},
   "outputs": [
    {
     "data": {
      "text/plain": [
       "270958239.9999999"
      ]
     },
     "execution_count": 638,
     "metadata": {},
     "output_type": "execute_result"
    }
   ],
   "source": [
    "np.linalg.det(a)"
   ]
  },
  {
   "cell_type": "code",
   "execution_count": 639,
   "id": "e4a68777-19e1-4ade-a058-56e59d607e70",
   "metadata": {},
   "outputs": [],
   "source": [
    "p,l,u=sps.linalg.lu(a)"
   ]
  },
  {
   "cell_type": "code",
   "execution_count": 629,
   "id": "2cd5c00f-9b2a-46f1-969d-efd4ca9b1372",
   "metadata": {},
   "outputs": [
    {
     "data": {
      "text/plain": [
       "array([[1., 0., 0., 0., 0.],\n",
       "       [0., 1., 0., 0., 0.],\n",
       "       [0., 0., 1., 0., 0.],\n",
       "       [0., 0., 0., 1., 0.],\n",
       "       [0., 0., 0., 0., 1.]])"
      ]
     },
     "execution_count": 629,
     "metadata": {},
     "output_type": "execute_result"
    }
   ],
   "source": [
    "p"
   ]
  },
  {
   "cell_type": "code",
   "execution_count": 630,
   "id": "e36f3b02-e667-44e2-bbef-4933c148fd7c",
   "metadata": {},
   "outputs": [
    {
     "data": {
      "text/plain": [
       "array([[100.,   2.,   0.,   0.,   0.],\n",
       "       [  4.,  60.,   0.,   0.,   0.],\n",
       "       [  5.,   7.,  35.,   0.,   0.],\n",
       "       [  0.,  13.,  17.,  19.,   0.],\n",
       "       [  0.,   0.,  33.,  15.,  68.]])"
      ]
     },
     "execution_count": 630,
     "metadata": {},
     "output_type": "execute_result"
    }
   ],
   "source": [
    "l @ u"
   ]
  },
  {
   "cell_type": "code",
   "execution_count": 631,
   "id": "96ca22e1-1ad9-4c47-8da8-5312c71a2385",
   "metadata": {},
   "outputs": [
    {
     "data": {
      "text/plain": [
       "array([[1.        , 0.        , 0.        , 0.        , 0.        ],\n",
       "       [0.04      , 1.        , 0.        , 0.        , 0.        ],\n",
       "       [0.05      , 0.11515354, 1.        , 0.        , 0.        ],\n",
       "       [0.        , 0.21695594, 0.48571429, 1.        , 0.        ],\n",
       "       [0.        , 0.        , 0.94285714, 0.78947368, 1.        ]])"
      ]
     },
     "execution_count": 631,
     "metadata": {},
     "output_type": "execute_result"
    }
   ],
   "source": [
    "l"
   ]
  },
  {
   "cell_type": "code",
   "execution_count": 632,
   "id": "786bf9d7-bd01-4c67-bd54-eabb41bf8662",
   "metadata": {},
   "outputs": [
    {
     "data": {
      "text/plain": [
       "array([[100.  ,   2.  ,   0.  ,   0.  ,   0.  ],\n",
       "       [  0.  ,  59.92,   0.  ,   0.  ,   0.  ],\n",
       "       [  0.  ,   0.  ,  35.  ,   0.  ,   0.  ],\n",
       "       [  0.  ,   0.  ,   0.  ,  19.  ,   0.  ],\n",
       "       [  0.  ,   0.  ,   0.  ,   0.  ,  68.  ]])"
      ]
     },
     "execution_count": 632,
     "metadata": {},
     "output_type": "execute_result"
    }
   ],
   "source": [
    "u"
   ]
  },
  {
   "cell_type": "markdown",
   "id": "99591c50-776a-43ec-8331-e6bf1f3fd0a2",
   "metadata": {},
   "source": [
    "For $L$ matrix $l$ stays the same and $u = 0$. For $U$ matrix $l = 0$ and $u$ stays the same."
   ]
  },
  {
   "cell_type": "markdown",
   "id": "fbe6bbfe-e2ce-4f6d-84a6-e4f283e48495",
   "metadata": {},
   "source": [
    "### Subtask 3"
   ]
  },
  {
   "cell_type": "code",
   "execution_count": 636,
   "id": "7e360f0a-4227-4b3a-b45c-c508e80cb862",
   "metadata": {},
   "outputs": [
    {
     "data": {
      "text/plain": [
       "array([[ 1,  2,  0,  0,  0],\n",
       "       [ 4,  6,  0,  0,  0],\n",
       "       [ 5,  7, 35,  0,  0],\n",
       "       [ 0, 13, 17, 19,  0],\n",
       "       [ 0,  0, 33, 15, 68]])"
      ]
     },
     "execution_count": 636,
     "metadata": {},
     "output_type": "execute_result"
    }
   ],
   "source": [
    "a = np.array([[1,2,0,0,0],[4,6,0,0,0],[5,7,35,0,0],[0,13,17,19,0],[0,0,33,15,68]])\n",
    "a"
   ]
  },
  {
   "cell_type": "code",
   "execution_count": 620,
   "id": "2b363521-29f7-418e-b46d-b7dc31dbc51e",
   "metadata": {},
   "outputs": [],
   "source": [
    "p,l,u=sps.linalg.lu(a)"
   ]
  },
  {
   "cell_type": "code",
   "execution_count": 11,
   "id": "643f4df4-947a-4acd-a841-5e1736a69d07",
   "metadata": {},
   "outputs": [
    {
     "data": {
      "text/plain": [
       "array([[0., 0., 0., 0., 1.],\n",
       "       [0., 0., 0., 1., 0.],\n",
       "       [1., 0., 0., 0., 0.],\n",
       "       [0., 1., 0., 0., 0.],\n",
       "       [0., 0., 1., 0., 0.]])"
      ]
     },
     "execution_count": 11,
     "metadata": {},
     "output_type": "execute_result"
    }
   ],
   "source": [
    "p"
   ]
  },
  {
   "cell_type": "code",
   "execution_count": 12,
   "id": "f71e60ba-37d0-491b-bc93-d99ae7ad0559",
   "metadata": {},
   "outputs": [
    {
     "data": {
      "text/plain": [
       "array([[ 1.        ,  0.        ,  0.        ,  0.        ,  0.        ],\n",
       "       [ 0.        ,  1.        ,  0.        ,  0.        ,  0.        ],\n",
       "       [ 0.        ,  0.        ,  1.        ,  0.        ,  0.        ],\n",
       "       [ 0.8       ,  0.03076923, -0.86433566,  1.        ,  0.        ],\n",
       "       [ 0.2       ,  0.04615385, -0.23589744,  0.21497967,  1.        ]])"
      ]
     },
     "execution_count": 12,
     "metadata": {},
     "output_type": "execute_result"
    }
   ],
   "source": [
    "l"
   ]
  },
  {
   "cell_type": "code",
   "execution_count": 13,
   "id": "4a44f7ec-41f9-476c-81e3-aafb1f344544",
   "metadata": {},
   "outputs": [
    {
     "data": {
      "text/plain": [
       "array([[ 5.        ,  7.        , 35.        ,  0.        ,  0.        ],\n",
       "       [ 0.        , 13.        , 17.        , 19.        ,  0.        ],\n",
       "       [ 0.        ,  0.        , 33.        , 15.        , 68.        ],\n",
       "       [ 0.        ,  0.        ,  0.        , 12.38041958, 58.77482517],\n",
       "       [ 0.        ,  0.        ,  0.        ,  0.        ,  3.40563338]])"
      ]
     },
     "execution_count": 13,
     "metadata": {},
     "output_type": "execute_result"
    }
   ],
   "source": [
    "u"
   ]
  },
  {
   "cell_type": "code",
   "execution_count": 14,
   "id": "2b326408-9a0e-4327-a5ed-4578a2dd4aea",
   "metadata": {},
   "outputs": [
    {
     "data": {
      "text/plain": [
       "array([[ 5.,  7., 35.,  0.,  0.],\n",
       "       [ 0., 13., 17., 19.,  0.],\n",
       "       [ 0.,  0., 33., 15., 68.],\n",
       "       [ 4.,  6.,  0.,  0.,  0.],\n",
       "       [ 1.,  2.,  0.,  0.,  0.]])"
      ]
     },
     "execution_count": 14,
     "metadata": {},
     "output_type": "execute_result"
    }
   ],
   "source": [
    "p.T @ a"
   ]
  },
  {
   "cell_type": "code",
   "execution_count": 15,
   "id": "1964f940-376f-437c-8a46-05fc92837510",
   "metadata": {},
   "outputs": [
    {
     "data": {
      "text/plain": [
       "array([[ 5.00000000e+00,  7.00000000e+00,  3.50000000e+01,\n",
       "         0.00000000e+00,  0.00000000e+00],\n",
       "       [ 0.00000000e+00,  1.30000000e+01,  1.70000000e+01,\n",
       "         1.90000000e+01,  0.00000000e+00],\n",
       "       [ 0.00000000e+00,  0.00000000e+00,  3.30000000e+01,\n",
       "         1.50000000e+01,  6.80000000e+01],\n",
       "       [ 4.00000000e+00,  6.00000000e+00, -1.77635684e-15,\n",
       "         0.00000000e+00,  0.00000000e+00],\n",
       "       [ 1.00000000e+00,  2.00000000e+00,  5.55111512e-17,\n",
       "        -1.29716671e-16, -4.44089210e-16]])"
      ]
     },
     "execution_count": 15,
     "metadata": {},
     "output_type": "execute_result"
    }
   ],
   "source": [
    "l @ u"
   ]
  },
  {
   "cell_type": "markdown",
   "id": "4fbad986-e186-49db-9a48-0ee74eb23671",
   "metadata": {},
   "source": [
    "The $u$ of the matrix $U$ is $u \\leq u + l$."
   ]
  },
  {
   "cell_type": "markdown",
   "id": "35fb1d0f-2347-4716-9e1f-00ef0a466859",
   "metadata": {},
   "source": [
    "### Subtask 4"
   ]
  },
  {
   "cell_type": "code",
   "execution_count": 729,
   "id": "72983fd5-1729-43c6-8d7f-ab01061ed587",
   "metadata": {},
   "outputs": [],
   "source": [
    "# The special LU:\n",
    "def spec_algo(a, u_val, l_val):\n",
    "    d = l_val\n",
    "    l = np.eye(N=a.shape[0], M=a.shape[1])\n",
    "    u = a.copy().astype(dtype=float)\n",
    "    for i in range(a.shape[1]): # columns\n",
    "        if a.shape[0] - (i + l_val) < 1:\n",
    "            d -= 1\n",
    "        for j in range(i, i+d+1): # rows\n",
    "            if j > i:     \n",
    "                k = u[j][i] / u[i][i]\n",
    "                l[j][i] = k\n",
    "                u[j] -= k * u[i]\n",
    "    return l, u\n",
    "\n",
    "u = 1\n",
    "l = 2\n",
    "new_l, new_u = spec_algo(a, 1, 2)"
   ]
  },
  {
   "cell_type": "code",
   "execution_count": 710,
   "id": "47241752-8427-477d-9a71-21f420378bdb",
   "metadata": {},
   "outputs": [
    {
     "data": {
      "text/plain": [
       "(array([[1., 0., 0., 0., 0.],\n",
       "        [0., 1., 0., 0., 0.],\n",
       "        [0., 0., 1., 0., 0.],\n",
       "        [0., 0., 0., 1., 0.],\n",
       "        [0., 0., 0., 0., 1.]]),\n",
       " array([[1.        , 0.        , 0.        , 0.        , 0.        ],\n",
       "        [0.04      , 1.        , 0.        , 0.        , 0.        ],\n",
       "        [0.05      , 0.11515354, 1.        , 0.        , 0.        ],\n",
       "        [0.        , 0.21695594, 0.48571429, 1.        , 0.        ],\n",
       "        [0.        , 0.        , 0.94285714, 0.78947368, 1.        ]]),\n",
       " array([[100.  ,   2.  ,   0.  ,   0.  ,   0.  ],\n",
       "        [  0.  ,  59.92,   0.  ,   0.  ,   0.  ],\n",
       "        [  0.  ,   0.  ,  35.  ,   0.  ,   0.  ],\n",
       "        [  0.  ,   0.  ,   0.  ,  19.  ,   0.  ],\n",
       "        [  0.  ,   0.  ,   0.  ,   0.  ,  68.  ]]))"
      ]
     },
     "execution_count": 710,
     "metadata": {},
     "output_type": "execute_result"
    }
   ],
   "source": [
    "sps.linalg.lu(a)"
   ]
  },
  {
   "cell_type": "code",
   "execution_count": 711,
   "id": "c14d5475-d9ea-4f43-a2fe-0a368d7b5542",
   "metadata": {},
   "outputs": [
    {
     "data": {
      "text/plain": [
       "array([[1.        , 0.        , 0.        , 0.        , 0.        ],\n",
       "       [0.04      , 1.        , 0.        , 0.        , 0.        ],\n",
       "       [0.05      , 0.11515354, 1.        , 0.        , 0.        ],\n",
       "       [0.        , 0.21695594, 0.48571429, 1.        , 0.        ],\n",
       "       [0.        , 0.        , 0.94285714, 0.78947368, 1.        ]])"
      ]
     },
     "execution_count": 711,
     "metadata": {},
     "output_type": "execute_result"
    }
   ],
   "source": [
    "new_l"
   ]
  },
  {
   "cell_type": "code",
   "execution_count": 712,
   "id": "ec4df4ea-c3c0-4ea5-a24b-2f36fd40db36",
   "metadata": {},
   "outputs": [
    {
     "data": {
      "text/plain": [
       "array([[100.  ,   2.  ,   0.  ,   0.  ,   0.  ],\n",
       "       [  0.  ,  59.92,   0.  ,   0.  ,   0.  ],\n",
       "       [  0.  ,   0.  ,  35.  ,   0.  ,   0.  ],\n",
       "       [  0.  ,   0.  ,   0.  ,  19.  ,   0.  ],\n",
       "       [  0.  ,   0.  ,   0.  ,   0.  ,  68.  ]])"
      ]
     },
     "execution_count": 712,
     "metadata": {},
     "output_type": "execute_result"
    }
   ],
   "source": [
    "new_u"
   ]
  },
  {
   "cell_type": "code",
   "execution_count": 713,
   "id": "9f2c469b-d09d-4454-a4ef-d093863e1883",
   "metadata": {},
   "outputs": [
    {
     "data": {
      "text/plain": [
       "array([[100.,   2.,   0.,   0.,   0.],\n",
       "       [  4.,  60.,   0.,   0.,   0.],\n",
       "       [  5.,   7.,  35.,   0.,   0.],\n",
       "       [  0.,  13.,  17.,  19.,   0.],\n",
       "       [  0.,   0.,  33.,  15.,  68.]])"
      ]
     },
     "execution_count": 713,
     "metadata": {},
     "output_type": "execute_result"
    }
   ],
   "source": [
    "new_l @ new_u"
   ]
  },
  {
   "cell_type": "markdown",
   "id": "ffd7f5d9-aae3-4152-bb1a-994184ee9382",
   "metadata": {},
   "source": [
    "So the complexity of the algorithm is $O(n*(l+1))$."
   ]
  },
  {
   "cell_type": "markdown",
   "id": "b7fc970b-99f4-49f6-8745-1c22ac441946",
   "metadata": {},
   "source": [
    "### Subtask 5"
   ]
  },
  {
   "cell_type": "code",
   "execution_count": 721,
   "id": "e6b8ed7c-e153-4a57-afe2-e60471f62186",
   "metadata": {},
   "outputs": [
    {
     "data": {
      "text/plain": [
       "array([[67, 20,  0,  0,  0],\n",
       "       [37, 17, 19,  0,  0],\n",
       "       [ 0,  4,  5,  1,  0],\n",
       "       [ 0,  0,  1,  8,  7],\n",
       "       [ 0,  0,  0,  1,  3]])"
      ]
     },
     "execution_count": 721,
     "metadata": {},
     "output_type": "execute_result"
    }
   ],
   "source": [
    "b = np.array([[67,20,0,0,0], [37,17,19,0,0], [0, 4, 5, 1, 0], [0,0,1,8,7], [0,0,0,1,3]])\n",
    "b"
   ]
  },
  {
   "cell_type": "code",
   "execution_count": 722,
   "id": "0e924125-2f81-455b-8225-ef13028d0360",
   "metadata": {},
   "outputs": [
    {
     "data": {
      "text/plain": [
       "-53845.999999999956"
      ]
     },
     "execution_count": 722,
     "metadata": {},
     "output_type": "execute_result"
    }
   ],
   "source": [
    "np.linalg.det(b)"
   ]
  },
  {
   "cell_type": "code",
   "execution_count": 723,
   "id": "a2565ed3-a63d-4933-a5da-62d9ee13df6b",
   "metadata": {},
   "outputs": [],
   "source": [
    "# triadiagonal algo:\n",
    "\n",
    "def triag_spec_algo(a, u_val=1, l_val=1):\n",
    "    d = 1\n",
    "    l = np.eye(N=a.shape[0], M=a.shape[1])\n",
    "    u = a.copy().astype(dtype=float)\n",
    "    for i in range(a.shape[1]): # columns\n",
    "        if a.shape[0] - (i + 1) < 1:\n",
    "            d = 0\n",
    "        for j in range(i, i+d+1): # rows\n",
    "            if j > i:     \n",
    "                k = u[j][i] / u[i][i]\n",
    "                l[j][i] = k\n",
    "                u[j] -= k * u[i]\n",
    "    return l, u\n",
    "\n",
    "new_l, new_u = triag_spec_algo(b)"
   ]
  },
  {
   "cell_type": "code",
   "execution_count": 724,
   "id": "39147560-9b94-492a-ac19-d8b5e8b8950c",
   "metadata": {},
   "outputs": [
    {
     "data": {
      "text/plain": [
       "(array([[1., 0., 0., 0., 0.],\n",
       "        [0., 1., 0., 0., 0.],\n",
       "        [0., 0., 1., 0., 0.],\n",
       "        [0., 0., 0., 1., 0.],\n",
       "        [0., 0., 0., 0., 1.]]),\n",
       " array([[ 1.        ,  0.        ,  0.        ,  0.        ,  0.        ],\n",
       "        [ 0.55223881,  1.        ,  0.        ,  0.        ,  0.        ],\n",
       "        [ 0.        ,  0.6716792 ,  1.        ,  0.        ,  0.        ],\n",
       "        [ 0.        ,  0.        , -0.12883436,  1.        ,  0.        ],\n",
       "        [ 0.        ,  0.        , -0.        ,  0.12301887,  1.        ]]),\n",
       " array([[67.        , 20.        ,  0.        ,  0.        ,  0.        ],\n",
       "        [ 0.        ,  5.95522388, 19.        ,  0.        ,  0.        ],\n",
       "        [ 0.        ,  0.        , -7.76190476,  1.        ,  0.        ],\n",
       "        [ 0.        ,  0.        ,  0.        ,  8.12883436,  7.        ],\n",
       "        [ 0.        ,  0.        ,  0.        ,  0.        ,  2.13886792]]))"
      ]
     },
     "execution_count": 724,
     "metadata": {},
     "output_type": "execute_result"
    }
   ],
   "source": [
    "sps.linalg.lu(b)"
   ]
  },
  {
   "cell_type": "code",
   "execution_count": 725,
   "id": "54522af3-3ddd-4cb8-805b-f1f1688af4d4",
   "metadata": {},
   "outputs": [
    {
     "data": {
      "text/plain": [
       "array([[ 1.        ,  0.        ,  0.        ,  0.        ,  0.        ],\n",
       "       [ 0.55223881,  1.        ,  0.        ,  0.        ,  0.        ],\n",
       "       [ 0.        ,  0.6716792 ,  1.        ,  0.        ,  0.        ],\n",
       "       [ 0.        ,  0.        , -0.12883436,  1.        ,  0.        ],\n",
       "       [ 0.        ,  0.        ,  0.        ,  0.12301887,  1.        ]])"
      ]
     },
     "execution_count": 725,
     "metadata": {},
     "output_type": "execute_result"
    }
   ],
   "source": [
    "new_l"
   ]
  },
  {
   "cell_type": "code",
   "execution_count": 726,
   "id": "54f9442b-7993-43ba-b417-a1d9c5036463",
   "metadata": {},
   "outputs": [
    {
     "data": {
      "text/plain": [
       "array([[ 6.70000000e+01,  2.00000000e+01,  0.00000000e+00,\n",
       "         0.00000000e+00,  0.00000000e+00],\n",
       "       [ 0.00000000e+00,  5.95522388e+00,  1.90000000e+01,\n",
       "         0.00000000e+00,  0.00000000e+00],\n",
       "       [ 0.00000000e+00,  0.00000000e+00, -7.76190476e+00,\n",
       "         1.00000000e+00,  0.00000000e+00],\n",
       "       [ 0.00000000e+00,  0.00000000e+00,  1.11022302e-16,\n",
       "         8.12883436e+00,  7.00000000e+00],\n",
       "       [ 0.00000000e+00,  0.00000000e+00, -1.36578380e-17,\n",
       "         0.00000000e+00,  2.13886792e+00]])"
      ]
     },
     "execution_count": 726,
     "metadata": {},
     "output_type": "execute_result"
    }
   ],
   "source": [
    "new_u"
   ]
  },
  {
   "cell_type": "code",
   "execution_count": 727,
   "id": "70be8111-7abf-4f23-b7b3-74540ff9fdfd",
   "metadata": {},
   "outputs": [
    {
     "data": {
      "text/plain": [
       "array([[67., 20.,  0.,  0.,  0.],\n",
       "       [37., 17., 19.,  0.,  0.],\n",
       "       [ 0.,  4.,  5.,  1.,  0.],\n",
       "       [ 0.,  0.,  1.,  8.,  7.],\n",
       "       [ 0.,  0.,  0.,  1.,  3.]])"
      ]
     },
     "execution_count": 727,
     "metadata": {},
     "output_type": "execute_result"
    }
   ],
   "source": [
    "new_l @ new_u"
   ]
  },
  {
   "cell_type": "markdown",
   "id": "034d00ac-16aa-4ca9-80bc-58a6f0d059c7",
   "metadata": {},
   "source": [
    "So the complexity of the algorithm is $O(2n)$"
   ]
  },
  {
   "cell_type": "markdown",
   "id": "da9676e7-2b1d-4ee7-af28-c75adef26110",
   "metadata": {},
   "source": [
    "### Subtask 6"
   ]
  },
  {
   "cell_type": "markdown",
   "id": "2f186a05-fe24-4839-8631-4678fd561c60",
   "metadata": {},
   "source": [
    "Having the knowledge of the 'Nullity theorem', it is possible to partition the initial matrix into 4 blocks, find its inverse and say the following:\n",
    "\n",
    "$$\\begin{bmatrix} A & B  \\\\ C & D  \\end{bmatrix}^{-1} =  \\begin{bmatrix} E & F \\\\ G & H \\end{bmatrix}$$\n",
    "\n",
    "$$nullity \\ A = nullity \\ H$$\n",
    "$$nullity \\ B = nullity \\ F$$\n",
    "$$nullity \\ C = nullity \\ G$$\n",
    "$$nullity \\ D = nullity \\ E$$\n",
    "\n",
    "As B and C blocks were initially low-rank and off-diagonal, blocks F and G are still low-rank and off-diagonal. Moreover, the rank of the submatrix B is u and the rank of the submatrix C is l, so the ranks of the submatrices F and G are u and l respectively. The example is presented lower."
   ]
  },
  {
   "cell_type": "code",
   "execution_count": 587,
   "id": "97164834-b421-4374-bbfe-166f691fecdb",
   "metadata": {},
   "outputs": [
    {
     "name": "stdout",
     "output_type": "stream",
     "text": [
      "[[11 78 25  0  0]\n",
      " [ 4  7  2 52  0]\n",
      " [ 0  3 12  2  5]\n",
      " [ 0  0 32 35  2]\n",
      " [ 0  0  0 18  1]] \n",
      "\n",
      "The ranks of the lower submatrices of the initial and the inverse matrices respectively: 1, 1\n",
      "The ranks of the upper submatrices of the initial and the inverse matrices respectively: 2, 2\n",
      "In that case l = 1 and u = 2.\n"
     ]
    }
   ],
   "source": [
    "a = np.array([[11,78,25,0,0],[4,7,2,52,0],[0,3,12,2,5],[0,0,32,35,2],[0,0,0,18,1]])\n",
    "inv_a = np.linalg.inv(a)\n",
    "print(a, '\\n')\n",
    "print(f\"The ranks of the lower submatrices of the initial and the inverse matrices respectively: {np.linalg.matrix_rank(a[2:,:2])}, {np.linalg.matrix_rank(inv_a[2:,:2])}\")\n",
    "print(f\"The ranks of the upper submatrices of the initial and the inverse matrices respectively: {np.linalg.matrix_rank(a[:2,2:])}, {np.linalg.matrix_rank(inv_a[:2,2:])}\")\n",
    "print(\"In that case l = 1 and u = 2.\")"
   ]
  },
  {
   "cell_type": "markdown",
   "id": "5b2c3253-6823-403c-8d76-bf012077a1cb",
   "metadata": {},
   "source": [
    "### Subtask 7"
   ]
  },
  {
   "cell_type": "markdown",
   "id": "37600aad",
   "metadata": {},
   "source": [
    "# Problem 2. Stability of linear least squares (25 pts)\n",
    "\n",
    "In this task you are supposed to explore the concept of the stability of the linear least squares problem.\n",
    "\n",
    "So you are given a matrix $A \\in \\mathbf{R}^{n \\times m}, n > m$, the right-hand side $b \\in \\mathbf{R}^{n}$. And you need to find the solution $x \\in \\mathbf{R}^{m}$ that minimizes the residual:\n",
    "\n",
    "$$\n",
    "\\Vert A x - b \\Vert_2 \\rightarrow \\min_x.\n",
    "$$\n",
    "\n",
    "### Task 1. Theory\n",
    "For all tasks here you can use spectral norm for the computation of condition number.\n",
    "\n",
    "1. (5 pts) Condition number of a matrix affects the stability of the solution. Recall from the lecture that using a normal equation $ A^* A x = A^* b $ to solve linear least squares problem is not a good idea.\n",
    "Prove that $\\mathrm{cond}_2(A^* A) = \\mathrm{cond}_2(A)^2$.\n",
    "\n",
    "2. (5 pts) Derive the condition number in 2-norm for\n",
    "  \n",
    "   a) unitary matrix,\n",
    "   \n",
    "   b) normal matrix,\n",
    "\n",
    "   c) diagonal matrix.\n",
    "\n",
    "### Task 2. Practice (15 pts)\n",
    "\n",
    "In this task you need to compare the relative errors of solution produced by different approaches for solving linear least squares on ill-conditioned matrices.\n",
    "\n",
    "1. Come up with the way to construct a random $n \\times m$ matrix with given condition number. Implement it in `construct_random_matrix`.\n",
    "\n",
    "2. You need to solve linear least squares problem using four ways:\n",
    "   \n",
    "   a) with normal equation;\n",
    "   \n",
    "   b) using QR decomposition;\n",
    "   \n",
    "   c) using pseudoinverse (compute it yourself using SVD);\n",
    "   \n",
    "   d) using bigger system of equations\n",
    "   \n",
    "   $$ \\begin{pmatrix} 0 & A^* \\\\ A & -I \\end{pmatrix} \\begin{pmatrix} x \\\\ r \\end{pmatrix} = \\begin{pmatrix} 0 \\\\ b \\end{pmatrix}, $$\n",
    "   \n",
    "    where $r = Ax - b$.\n",
    "\n",
    "3. With the growth of condition number show the growth of the relative error $\\frac{\\Vert \\hat{x} - x \\Vert}{\\Vert x \\Vert}$ between the initial solution $x$ and the solution $\\hat{x}$ of the perturbed system $Ax = b + \\Delta b$. Show that for the normal equation the dependence is quadratic w.r.t condition number, while for the other methods it is linear. Plot the resulting dependence (error vs condition number) and comment on results. Ensure that your plots are interpretable.\n",
    "\n",
    "4. In general, the setup of your experiment should be the following:\n",
    " - Generate a random matrix $A$ and a vector $x_\\text{true}$.\n",
    " - Compute the correct right-hand side $b$.\n",
    " - Solve the resulting system $Ax = b$ to get $x$.\n",
    " - Perturb the system $Ax = b + \\Delta b$ and get new solution $\\hat{x}$. The perturbation $\\frac{\\Vert \\Delta b \\Vert}{\\Vert b \\Vert}$ should be small.\n",
    "\n",
    "You are free to use `numpy` or `jax`."
   ]
  },
  {
   "cell_type": "markdown",
   "id": "add21b49-4dc5-43e7-8804-d114e0299268",
   "metadata": {},
   "source": [
    "## Task 1"
   ]
  },
  {
   "cell_type": "markdown",
   "id": "ed2b0467-c68c-4ea8-974c-105f36941413",
   "metadata": {},
   "source": [
    "### Subtask 1"
   ]
  },
  {
   "cell_type": "markdown",
   "id": "8fb62325-6483-414a-bb04-7bed1cd0efef",
   "metadata": {},
   "source": [
    "As it is known:\n",
    "$$cond_2(A) = \\frac{\\sigma_{max}(A)}{\\sigma_{min}(A)}$$\n",
    "\n",
    "It is possible to write the following. Firstly:\n",
    "$$cond_2(A^*A) = \\|(A^*A)^{-1} \\|_2  \\|(A^*A) \\|_2$$\n",
    "$$A = U \\Sigma V^*$$\n",
    "$$(U \\Sigma V^*)^* = V \\Sigma U^*$$\n",
    "\n",
    "Hence:\n",
    "$$A^*A = V \\Sigma U^* U \\Sigma V^* = V \\Sigma^2 V^*$$\n",
    "and\n",
    "$$cond_2(A) = \\frac{\\sigma^2_{max}(A)}{\\sigma^2_{min}(A)}$$\n",
    "\n",
    "Secondly:\n",
    "\n",
    "$$cond_2(A)^2 = (\\|A^{-1} \\|_2  \\|A \\|_2)^2$$\n",
    "\n",
    "Hence:\n",
    "\n",
    "$$cond_2(A)^2 = (\\frac{\\sigma_{max}(A)}{\\sigma_{min}(A)})^2 = \\frac{\\sigma^2_{max}(A)}{\\sigma^2_{min}(A)}$$\n",
    "\n",
    "So it is proved."
   ]
  },
  {
   "cell_type": "markdown",
   "id": "1a9369bb-98e9-4e37-a4c0-f878c1ca3172",
   "metadata": {},
   "source": [
    "### Subtask 2"
   ]
  },
  {
   "cell_type": "markdown",
   "id": "5290e9f2-cad0-4477-8b4c-e6c1b6ca90d9",
   "metadata": {},
   "source": [
    "1. Unitary martrix:\n",
    "   $$U^*U = UU^* = UU^{-1} = I$$\n",
    "   $$cond_2(U) = \\|U^{-1} \\|_2 \\|U \\|_2$$\n",
    "   The norm of a matrix is possible to define as follows:\n",
    "   $$\\|A \\| = max(\\frac{\\|Ax \\|}{\\|x \\|}) = max(\\|Ax\\|)$$\n",
    "   As it is known,\n",
    "   $$\\|Ux \\| = \\|x \\|$$ for any $x$.\\\n",
    "   Hence:\n",
    "   $$cond_2(U) = 1$$"
   ]
  },
  {
   "cell_type": "markdown",
   "id": "7edd2fd4-c751-490b-89be-fd052dffdc6c",
   "metadata": {},
   "source": [
    "2. For any unitary matrix $U$ of finite size the following holds:\n",
    "\n",
    "    $U$ is normal $(U^*U=UU^*)$, hence:\n",
    "    $A$ - normal and $cond_2(A) = 1$"
   ]
  },
  {
   "cell_type": "markdown",
   "id": "78dde40c-e48d-430f-af56-94b7055161f1",
   "metadata": {},
   "source": [
    "3. A - diagonal matrix.\n",
    "   $$cond_2(A)=\\frac{\\sigma_{max}(A)}{\\sigma_{min}(A)} = \\frac{\\lambda_{max}(A)}{\\lambda_{min}(A)}$$"
   ]
  },
  {
   "cell_type": "markdown",
   "id": "755571ff-71dd-44b9-99d1-3107a1080705",
   "metadata": {},
   "source": [
    "## Task 2"
   ]
  },
  {
   "cell_type": "markdown",
   "id": "c5789697-d070-483e-b3ab-02ecf9780d70",
   "metadata": {},
   "source": [
    "### Subtask 1"
   ]
  },
  {
   "cell_type": "code",
   "execution_count": 750,
   "id": "a1cddb54",
   "metadata": {},
   "outputs": [],
   "source": [
    "import numpy as np\n",
    "from matplotlib import pyplot as plt\n",
    "%matplotlib inline\n",
    "\n",
    "\n",
    "def construct_random_matrix(n: int, m: int, cond_number: float):\n",
    "    \"\"\"\n",
    "    Constructs random nxm matrix with a given condition matrix.\n",
    "\n",
    "    Args:\n",
    "        n, m: matrix dimensions\n",
    "        cond_number: the desired condition numebr\n",
    "\n",
    "    Returns: nxm matrix with condition number cond_number\n",
    "    \"\"\"\n",
    "    # Your solution here\n",
    "    A = np.random.uniform(low=0.0, high=1.0, size=(n,m))\n",
    "    u, s, hv = np.linalg.svd(A, full_matrices=False)\n",
    "    if np.linalg.cond(A) < cond_number:\n",
    "        new_sigma_max = cond_number * min(s)\n",
    "        s[0] = new_sigma_max\n",
    "    else:\n",
    "        new_sigma_min = s[0] / cond_number\n",
    "        s[-1] = new_sigma_min\n",
    "        \n",
    "    A = u @ np.diag(s) @ hv\n",
    "    \n",
    "    return A\n",
    "    \n",
    "\n",
    "n = 100\n",
    "m = 40\n",
    "cond_number = np.random.random() * 1000\n",
    "\n",
    "assert np.allclose(np.linalg.cond(construct_random_matrix(n, m, cond_number)), cond_number)"
   ]
  },
  {
   "cell_type": "markdown",
   "id": "7aa90639-f32e-4fde-885b-2bca0b678a00",
   "metadata": {},
   "source": [
    "### Subtask 2 and Subtask 3"
   ]
  },
  {
   "cell_type": "code",
   "execution_count": 764,
   "id": "2c09a3e6-b6b4-4825-8509-3bdac999e264",
   "metadata": {},
   "outputs": [],
   "source": [
    "def construct_random_matrix(n: int, m: int, cond_number: float):\n",
    "    A = np.random.uniform(low=0.0, high=1.0, size=(n,m))\n",
    "    u, s, hv = np.linalg.svd(A, full_matrices=False)\n",
    "    if np.linalg.cond(A) < cond_number:\n",
    "        new_sigma_max = cond_number * min(s)\n",
    "        s[0] = new_sigma_max\n",
    "    else:\n",
    "        new_sigma_min = s[0] / cond_number\n",
    "        s[-1] = new_sigma_min\n",
    "    A = u @ np.diag(s) @ hv\n",
    "    return A\n",
    "\n",
    "\n",
    "def normal_equation(A, b, N):\n",
    "    temp_val = np.random.randn(N)\n",
    "    x_norm = np.linalg.solve(A.T @ A, A.T @ b)\n",
    "    x_hat = np.linalg.solve(A.T @ A, A.T @ (b + temp_val / np.linalg.norm(temp_val) * np.linalg.norm(b) * 10 ** (-11)))\n",
    "    return np.linalg.norm((x_hat - x_norm), ord=2) / np.linalg.norm(x_norm, ord=2)\n",
    "\n",
    "\n",
    "def qr_decomposition(A, b, N):\n",
    "    temp_val = np.random.randn(N)\n",
    "    q, r = np.linalg.qr(A)\n",
    "    new_A = r\n",
    "    new_b = q.T @ b\n",
    "    x_qr = np.linalg.solve(new_A, new_b)\n",
    "    x_hat = np.linalg.solve(r, q.T @ (b + temp_val / np.linalg.norm(temp_val) * np.linalg.norm(b) * 10 ** (-11)))\n",
    "    return np.linalg.norm((x_hat - x_qr)) / np.linalg.norm(x_qr)\n",
    "\n",
    "\n",
    "def pseudoinverse(A, b, N):\n",
    "    temp_val = np.random.randn(N)\n",
    "    u, s, vh = np.linalg.svd(A, full_matrices=False)\n",
    "    A_pseudo = vh.T @ np.linalg.inv(np.diag(s)) @ u.T\n",
    "    x_pseudo = A_pseudo @ b\n",
    "    b_delta = (b + temp_val / np.linalg.norm(temp_val) * np.linalg.norm(b) * 10 ** (-11))\n",
    "    x_hat = A_pseudo @ b_delta\n",
    "    return np.linalg.norm(x_hat - x_pseudo) / np.linalg.norm(x_pseudo)\n",
    "\n",
    "\n",
    "\n",
    "def bigger_systems(A, b, N):\n",
    "    temp_val = np.random.randn(N)\n",
    "    left = np.vstack((np.zeros((A.T.shape[0], A.shape[1])), A))\n",
    "    right = np.vstack((A.T, -np.eye(N=A.shape[0], M=A.T.shape[1])))\n",
    "    final_mat = np.hstack((left, right))\n",
    "    \n",
    "    # the original one:\n",
    "    final_vec = np.concatenate((np.zeros(final_mat.shape[0]-b.shape[0]), b))\n",
    "    bigger_vec = np.linalg.solve(final_mat, final_vec)\n",
    "    \n",
    "\n",
    "    # b + delta_b:\n",
    "    biased_b = b + temp_val / np.linalg.norm(temp_val) * np.linalg.norm(b) * 10 ** (-11)\n",
    "    delta_vec = np.concatenate((np.zeros(final_mat.shape[0]-biased_b.shape[0]), biased_b))\n",
    "    delta_bigger_vec = np.linalg.solve(final_mat, delta_vec)\n",
    "\n",
    "    if A.shape[0] == A.shape[1]:\n",
    "        bigger_x = bigger_vec[:bigger_vec.shape[0]//2]\n",
    "        x_hat = delta_bigger_vec[:delta_bigger_vec.shape[0]//2]\n",
    "    else:\n",
    "        bigger_x = bigger_vec\n",
    "        x_hat = delta_bigger_vec\n",
    "    return np.linalg.norm((x_hat - bigger_x), ord=2) / np.linalg.norm(bigger_x, ord=2)\n",
    "\n",
    "\n",
    "def implementation(N, M):\n",
    "    \n",
    "    norm_list = []\n",
    "    qr_list = []\n",
    "    pseudo_list = []\n",
    "    bigger_list = []\n",
    "    cond_list = np.arange(1000, 500000, step=500, dtype=float)\n",
    "    \n",
    "    for i in range(len(cond_list)):\n",
    "        A = construct_random_matrix(N, M, cond_list[i])\n",
    "        x_true = np.random.randn(M)\n",
    "        b = A @ x_true\n",
    "\n",
    "        norm_list.append(normal_equation(A, b, N))\n",
    "        qr_list.append(qr_decomposition(A, b, N))\n",
    "        pseudo_list.append(pseudoinverse(A, b, N))\n",
    "        bigger_list.append(bigger_systems(A, b, N))\n",
    "\n",
    "    return cond_list, norm_list, qr_list, pseudo_list, bigger_list\n",
    "\n",
    "N = 10\n",
    "M = 4\n",
    "\n",
    "cond, norm, qr, pseudo, bigger = implementation(N, M)"
   ]
  },
  {
   "cell_type": "code",
   "execution_count": 765,
   "id": "d12f8a7e-5cef-4138-8de5-7388510119c3",
   "metadata": {},
   "outputs": [
    {
     "data": {
      "image/png": "[encoded data removed]",
      "text/plain": [
       "<Figure size 640x480 with 4 Axes>"
      ]
     },
     "metadata": {},
     "output_type": "display_data"
    }
   ],
   "source": [
    "def plotting(cond_list, norm_list, qr_list, pseudo_list, bigger_list):\n",
    "    fig, ((ax1, ax2), (ax3, ax4)) = plt.subplots(2, 2)\n",
    "    ax1.plot(cond_list, norm_list)\n",
    "    ax1.title.set_text(\"Norm\")\n",
    "    ax2.plot(qr_list)\n",
    "    ax2.title.set_text(\"QR\")\n",
    "    ax3.plot(pseudo_list)\n",
    "    ax3.title.set_text(\"Pseudo\")\n",
    "    ax4.plot(bigger_list)\n",
    "    ax4.title.set_text(\"Bigger\")\n",
    "    plt.tight_layout(pad=2)\n",
    "    plt.show()\n",
    "\n",
    "\n",
    "plotting(cond, norm, qr, pseudo, bigger)"
   ]
  },
  {
   "cell_type": "code",
   "execution_count": 769,
   "id": "fd7ff730-0844-4fff-9c1a-11fc65ef259d",
   "metadata": {},
   "outputs": [
    {
     "data": {
      "image/png": "[encoded data removed]",
      "text/plain": [
       "<Figure size 640x480 with 1 Axes>"
      ]
     },
     "metadata": {},
     "output_type": "display_data"
    }
   ],
   "source": [
    "from matplotlib import pyplot as plt\n",
    "\n",
    "def big_plot(cond_list, norm_list, qr_list, pseudo_list, bigger_list):\n",
    "    plt.plot(cond_list, norm_list, label=\"Normal\")\n",
    "    plt.plot(cond_list, qr_list, label=\"QR\")\n",
    "    plt.plot(cond_list, pseudo_list, label=\"Pseudo\")\n",
    "    plt.plot(cond_list, bigger_list, label=\"Bigger system\")\n",
    "    plt.legend()\n",
    "    plt.show()\n",
    "\n",
    "\n",
    "big_plot(cond, norm, qr, pseudo, bigger)"
   ]
  },
  {
   "cell_type": "markdown",
   "id": "c23fbfae-1448-49ab-90c1-2b2884c75f62",
   "metadata": {},
   "source": [
    "As it is seen, for the normal equation the dependence is quadratic w.r.t condition number, while for the other methods it is linear. "
   ]
  },
  {
   "cell_type": "markdown",
   "id": "9f71aa55",
   "metadata": {},
   "source": [
    "# Problem 3 (30 pts)\n",
    "\n",
    "A generalisation of the eigenvalue problem is the generalised eigenvalue problem; if an eigenpair satisfies \n",
    "$$ Av = \\lambda v,$$\n",
    "then a generalised eigenvalue for a pair $(A,B)$ of matrices makes the matrix \n",
    "$$A-\\lambda B$$ \n",
    "degenerate.\n",
    "The generalised eigenvector satisfies $Av = \\lambda Bv$. In this task we consider matrices $A,B$ are of size  $n\\times n$.\n",
    "\n",
    "## Task 1 (4 pts)\n",
    "\n",
    "How many generalised eigenvalues are there for each of the following matrix pairs? Find all, if you can:\n",
    "\n",
    "  1. $$ A = \\begin{bmatrix} 1 & 2 \\\\ 0 & 3 \\end{bmatrix}, \\quad B = \\begin{bmatrix} 1 & 0 \\\\ 0& 1 \\end{bmatrix} $$ \n",
    "\n",
    "  2. $$ A = \\begin{bmatrix} 1 & 2 \\\\ 0 & 3 \\end{bmatrix}, \\quad B = \\begin{bmatrix} 1 & 0 \\\\ 0& 0 \\end{bmatrix} $$\n",
    "  \n",
    "  3. $$ A = \\begin{bmatrix} 1 & 2 \\\\ 0 & 3 \\end{bmatrix}, \\quad B = \\begin{bmatrix} 0 & 1 \\\\ 0& 0 \\end{bmatrix} $$\n",
    "  \n",
    "  4. $$ A = \\begin{bmatrix} 1 & 2 \\\\ 0 & 0 \\end{bmatrix}, \\quad B = \\begin{bmatrix} 1 & 0 \\\\ 0& 0 \\end{bmatrix} $$\n",
    "\n",
    "## Task 2 (2 pts)\n",
    "\n",
    "Assume $\\mu$ is not a generalised eigenvalue of $(A,B)$. How are spectra of $(A,B)$ and $((A-\\mu B)^{-1}A,(A-\\mu B)^{-1}B)$ related?\n",
    "\n",
    "## Task 3 (24 pts)\n",
    "\n",
    "To solve the complete generalised eigenvalue problem, [QZ algorithm](https://link.springer.com/content/pdf/10.1007/3-540-28502-4_2) can be used. This algorithm is the direct generalization of the QR algorithm for the standard eigenvalue problem. \n",
    "However, in this task we focus on the partial generalised eigenvalue problem and its application to the canonical correlation analysis.\n",
    "\n",
    "You can test the algorithms in the further tasks only for the symmetric matrices $A$ and symmetric positive definite matrices $B$.\n",
    "\n",
    "### From power method to its generalisation form\n",
    "\n",
    "In order to recover the largest generalised eigenvalue and the corresponding eigenvector, one can note that\n",
    "\n",
    "$$Av = \\lambda Bv$$\n",
    "\n",
    "is equivalent to\n",
    "\n",
    "$$B^{-1}Av = \\lambda v.$$\n",
    "\n",
    "Therefore, one has to use the power method to $B^{-1}A$ with a random initialisation. \n",
    "However, it may be rather expensive to invert $B$ explicitly.\n",
    "Therefore, we would like to avoid doing that and inexactly apply $B^{-1}$ through the solving linear system $Bx = y$.\n",
    "Implement the resulting algorithm based on this idea, verify its convergence speed and check that the generalised eigenvalue relation holds.\n",
    "\n",
    "Important notes that will help you successfully update the classical power method:\n",
    " \n",
    "1) think about how the normalization step should be changed, the energy norm definition $\\|x\\|^2_A = x^\\top A x$ can help in the proper reformultation\n",
    "\n",
    "2) think how the step $x_{k+1}= Ax_k$ will be updated with the aforementioned notes regarding operations with matrix $B$ \n",
    "\n",
    "### From *block* power method to its generalisation form\n",
    "\n",
    "Just as in the regular eigenvalue case, generalised eigenvalues can be extended to block power method (which can yield the QZ algoritm, analogously to emergence of QR in the regular case). \n",
    "The extension is straightforward and consists of replacing vectors with matrices corresponding to the $k$ largest  generalised eigenvectors. \n",
    "Moreover, since orthogonality is reqiored, a routine for enforcing orthogonality of the iterates is also needed. Implement the block power method for the generalised eigenvalue problem. \n",
    "Pay special attention how the orthogonalisation procedure shown be changed to take into account the matrix $B$.\n",
    "Separately implement the proper orthoghonalisation algorithm and use it in your code for the target block power method.\n",
    "Test convergence speed and check that results satisfy the target equation.\n",
    "\n",
    "In addition, you can check the correctness of your result with ```scipy.linalg.eigh``` function with proper argumets.\n",
    "\n",
    "### Application of the generalised eignevalue problem to the canonical correlation analysis\n",
    "\n",
    "When one studies two datasets, it may be desirable to find the orthogonal (in the sense of the inner products induced by the correlation matrices) bases of spaces that capture linear combinations of features that are most correlated between the two datasets. \n",
    "Such a problem is called the problem of **canonical correlation analysis** and can be formulated as finding such a sequence $\\{(\\phi_i, \\psi_i)\\}$ that for data matrices $X\\in\\mathbb{R}^{n\\times a}, Y\\in\\mathbb{R}^{n\\times b}$\n",
    "\n",
    "$$(\\phi_i, \\psi_i)\\in \\arg\\max_{\\phi, \\psi} \\phi^TS_{xy}\\psi$$\n",
    "\n",
    "Subject to:\n",
    "\n",
    "$$\\|\\phi\\|_{S_x} = \\|\\psi\\|_{S_y} = 1$$\n",
    "\n",
    "$$\\langle\\phi, \\phi_j\\rangle_{S_x} = 0 \\quad \\forall j<i$$\n",
    "\n",
    "\n",
    "$$\\langle\\psi, \\psi_j\\rangle_{S_y} = 0 \\quad \\forall j<i,$$\n",
    "\n",
    "where $\\|\\cdot\\|_A$ is the energy norm induced by $A$, $\\langle\\cdot,\\cdot\\rangle_A$ is the inner product induced by $A$, $S_y = \\frac{1}{n}Y^\\top Y$, $S_x = \\frac{1}{n}X^\\top X$, $S_{xy} = \\frac{1}{n}X^\\top Y$\n",
    "\n",
    "We are asked to find two bases of the maximal-cross-correlation subspace, both orthogonal in the inner product induced by the correlation matrix of the appropriate dataset.\n",
    "\n",
    "Consider firstly the problem of simply finding a basis of the described space, subject only to unit-vector conditions (since orthogonalisation can always be carried out separately). \n",
    "The Lagrangian will then read:\n",
    "\n",
    "$$L(\\phi, \\psi, \\lambda, \\mu) = \\phi^TS_{xy}\\psi-\\lambda(\\phi^TS_x\\phi-1)-\\mu(\\psi^TS_y\\psi-1),$$\n",
    "\n",
    "where $\\lambda$ and $\\mu$ are dual variables.\n",
    "\n",
    "From the stationarity of Lagrangian with respect ot the original variables $\\psi$ and $\\phi$ follows the following equation on the dual varibles\n",
    "\n",
    "$$S_{xy}\\psi = \\lambda S_x\\phi$$\n",
    "\n",
    "$$S_{yx}\\phi = \\mu S_y\\psi$$\n",
    "\n",
    "Note that\n",
    "\n",
    "$$\\|\\phi\\|_{S_x} = \\phi^TS_x\\phi = \\frac{1}{\\lambda}\\phi^T S_{xy}\\psi = \\frac{1}{\\lambda} \\psi^TS_{yx}\\phi = \\frac{\\mu}{\\lambda}\\psi^TS_y\\psi = \\frac{\\mu}{\\lambda}\\|\\psi\\|_{S_y} = \\frac{\\mu}{\\lambda} = 1,$$\n",
    "\n",
    "Therefore $\\mu=\\lambda$ and the equations above can be simplified in the following way\n",
    "\n",
    "$$S_{xy}\\psi = \\lambda S_x\\phi$$\n",
    "\n",
    "$$S_{yx}\\phi = \\lambda S_y\\psi$$\n",
    "\n",
    "and the problem admits a block representation:\n",
    "\n",
    "$$\\begin{bmatrix}0 & S_{xy} \\\\ S_{yx} & 0\\end{bmatrix}\\begin{bmatrix}\\phi\\\\\\psi\\end{bmatrix} = \\lambda \\begin{bmatrix}S_x & 0 \\\\ 0 & S_y\\end{bmatrix}\\begin{bmatrix}\\phi\\\\\\psi\\end{bmatrix}. $$\n",
    "\n",
    "Surprisingly, this problem has the form of the generalised eigenvalue problem. \n",
    "Therefore, the target vectors can be found as the leading eigenvectors and will be an orthonormal basis.\n",
    "\n",
    "You need to implement the algorithm for extracting $k$ vectors $\\psi_i, \\phi_i$ from the given data matrices $X \\in \\mathbb{R}^{n \\times d_1}$ and $Y \\in \\mathbb{R}^{n \\times d_2}$.\n",
    "You should use the power method from the previous task and take into account the special structure of the matrices $(A, B)$ coming from the original problem statment. Please, use this structure for efficient implementation of the internal steps."
   ]
  },
  {
   "cell_type": "markdown",
   "id": "dcd108a7-dac8-425c-a460-b8fa252a1a7f",
   "metadata": {},
   "source": [
    "### Subtask 1"
   ]
  },
  {
   "cell_type": "markdown",
   "id": "b9dee76a-bd12-46f7-939e-8490f39a5dbd",
   "metadata": {},
   "source": [
    "1. $$\\lambda_1 = 1, \\lambda_2 = 3$$\n",
    "   Hence:\n",
    "   $$det(\\begin{bmatrix} 1 & 2 \\\\ 0 & 3 \\end{bmatrix} - 1 *  \\begin{bmatrix} 1 & 0 \\\\ 0& 1 \\end{bmatrix}) = 0$$\n",
    "   $$det(\\begin{bmatrix} 1 & 2 \\\\ 0 & 3 \\end{bmatrix} - 3 *  \\begin{bmatrix} 1 & 0 \\\\ 0& 1 \\end{bmatrix}) = 0$$"
   ]
  },
  {
   "cell_type": "markdown",
   "id": "528b09bc-b0f4-4498-8aff-a2911c654a7e",
   "metadata": {},
   "source": [
    "2. $$\\lambda_1 = 1, \\lambda_2 = 3$$\n",
    "   Hence:\n",
    "   $$det(\\begin{bmatrix} 1 & 2 \\\\ 0 & 3 \\end{bmatrix} - 1 *  \\begin{bmatrix} 1 & 0 \\\\ 0& 0 \\end{bmatrix}) = 0$$\n",
    "   $$det(\\begin{bmatrix} 1 & 2 \\\\ 0 & 3 \\end{bmatrix} - 3 *  \\begin{bmatrix} 1 & 0 \\\\ 0& 0 \\end{bmatrix}) = -6$$"
   ]
  },
  {
   "cell_type": "markdown",
   "id": "fc04bc52-28ab-4333-9d2a-1178ee0f5c3f",
   "metadata": {},
   "source": [
    "3. $$\\lambda_1 = 1, \\lambda_2 = 3$$\n",
    "   Hence:\n",
    "   $$det(\\begin{bmatrix} 1 & 2 \\\\ 0 & 3 \\end{bmatrix} - 1 *  \\begin{bmatrix} 0 & 1 \\\\ 0& 0 \\end{bmatrix}) = 3$$\n",
    "   $$det(\\begin{bmatrix} 1 & 2 \\\\ 0 & 3 \\end{bmatrix} - 3 *  \\begin{bmatrix} 0 & 1 \\\\ 0& 0 \\end{bmatrix}) = 3$$"
   ]
  },
  {
   "cell_type": "markdown",
   "id": "effdbee4-580f-49c7-937c-03f3292fddaf",
   "metadata": {},
   "source": [
    "4. $$\\lambda_1 = 0, \\lambda_2 = 1$$\n",
    "\n",
    "   Hence:\n",
    "   $$det(\\begin{bmatrix} 1 & 2 \\\\ 0 & 0 \\end{bmatrix} - 0 *  \\begin{bmatrix} 1 & 0 \\\\ 0& 0 \\end{bmatrix}) = 0$$\n",
    "   $$det(\\begin{bmatrix} 1 & 2 \\\\ 0 & 0 \\end{bmatrix} - 1 *  \\begin{bmatrix} 1 & 0 \\\\ 0& 0 \\end{bmatrix}) = 0$$   "
   ]
  },
  {
   "cell_type": "markdown",
   "id": "0d8354cf-7e16-4c81-89af-86ef50895fa9",
   "metadata": {},
   "source": [
    "The final list of the generalised eigenvalues for each case:\n",
    "\n",
    "1. $\\lambda_1 = 1, \\lambda_2 = 3$\n",
    "2. $\\lambda_1 = 1$\n",
    "3. $-$\n",
    "4. $\\lambda_1 = 0, \\lambda_2 = 1$, but not only these ones. Generally, because of the case itself, the amount of generalized lambdas is infinite."
   ]
  },
  {
   "cell_type": "markdown",
   "id": "997cdd4b-9c95-44a2-93f7-a6c0558263fc",
   "metadata": {},
   "source": [
    "### Subtask 2"
   ]
  },
  {
   "cell_type": "markdown",
   "id": "c7ad2b2b-f679-4beb-ae2e-edf04fadfd4e",
   "metadata": {},
   "source": [
    "Note that there are $(A-\\mu B)^{-1}$ on the both sides of the pair $((A-\\mu B)^{-1}A,(A-\\mu B)^{-1}B)$, so spectra of $(A,B)$ and $((A-\\mu B)^{-1}A,(A-\\mu B)^{-1}B)$ are the same."
   ]
  },
  {
   "cell_type": "code",
   "execution_count": 29,
   "id": "d4f3edee",
   "metadata": {},
   "outputs": [],
   "source": [
    "# Your code is here"
   ]
  },
  {
   "cell_type": "markdown",
   "id": "65d030ec",
   "metadata": {},
   "source": [
    "- You are further asked to test the developed algorithm on an arbitrary splitting of the MNIST dataset (import it from [keras](https://keras.io/api/datasets/mnist/), [PyTorch](https://pytorch.org/vision/stable/generated/torchvision.datasets.MNIST.html#torchvision.datasets.MNIST), etc). Test different values of $k$.\n",
    "- In addition, test it on synthetic data of known covariance. \n",
    "You can generate bivariate data with known covariance matrix through the multiplication of vectors from standard normal distribution by the Cholesky factor of the desired covariance matrix.\n",
    "Then split the generated bivaritate data into two univariate vectors. Run the prepared code and comment on the obtained results."
   ]
  },
  {
   "cell_type": "code",
   "execution_count": null,
   "id": "e10241bb",
   "metadata": {},
   "outputs": [],
   "source": [
    "# Your code is here"
   ]
  }
 ],
 "metadata": {
  "kernelspec": {
   "display_name": "Python 3 (ipykernel)",
   "language": "python",
   "name": "python3"
  },
  "language_info": {
   "codemirror_mode": {
    "name": "ipython",
    "version": 3
   },
   "file_extension": ".py",
   "mimetype": "text/x-python",
   "name": "python",
   "nbconvert_exporter": "python",
   "pygments_lexer": "ipython3",
   "version": "3.10.11"
  }
 },
 "nbformat": 4,
 "nbformat_minor": 5
}
